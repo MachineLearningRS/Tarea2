{
 "cells": [
  {
   "cell_type": "markdown",
   "metadata": {},
   "source": [
    "<div class=\"cite2c-biblio\"></div><img src=\"escudo_utfsm.gif\" style=\"float:right;height:100px\">\n",
    "<img src=\"IsotipoDIisocolor.png\" style=\"float:left;height:100px\">\n",
    "<center>\n",
    "    <h1> INF-493 - Machine Learning</h1>\n",
    "    <h1> Tarea 2 - Métodos para Clasificación </h1>\n",
    "\n",
    "<p>\n",
    "<br><center>_Javier Reyes_<strong> - </strong>_javier.reyes.12@sansano.usm.cl_<strong> - </strong>_201273524-6_ </center>\n",
    "<br><center>_Marco Salinas_<strong> - </strong>_marco.salinas.12@sansano.usm.cl_<strong> - </strong>_201273589-0_ </center>\n",
    "</p>\n",
    "</center>"
   ]
  },
  {
   "cell_type": "markdown",
   "metadata": {},
   "source": [
    "#  1 Tipos de Fronteras en Clasificación\n"
   ]
  },
  {
   "cell_type": "code",
   "execution_count": null,
   "metadata": {
    "collapsed": true
   },
   "outputs": [],
   "source": [
    "import numpy as np\n",
    "from sklearn.utils import check_random_state\n",
    "\n",
    "n_samples=500\n",
    "mean = (0,-4)\n",
    "C = np.array([[0.3, 0.1], [0.1, 1.5]])\n",
    "datos1 = np.random.multivariate_normal(mean, C, n_samples)\n",
    "outer_circ_x = np.cos(np.linspace(0, np.pi, n_samples))*3\n",
    "outer_circ_y = np.sin(np.linspace(0, np.pi, n_samples))*3\n",
    "datos2 = np.vstack((outer_circ_x,outer_circ_y)).T\n",
    "generator = check_random_state(10)\n",
    "datos2 += generator.normal(scale=0.3, size=datos2.shape)\n"
   ]
  },
  {
   "cell_type": "markdown",
   "metadata": {},
   "source": [
    "<p  style=\"text-align: justify;\"> \n",
    "    **(a)** Construya el conjunto de datos (dataset) común con los dos conjuntos generados. Luego se realiza un\n",
    "shift desde el conjunto 2 al 1, esto se puede ver en la imagen anterior, donde el conjunto de color\n",
    "naranjo (media luna) tiene puntos azules a la derecha pertenecientes al otro conjunto, esto es con\n",
    "el mismo propósito de trabajar con un dataset no ideal. Determine cuántos registros contiene cada\n",
    "conjunto y visualícelos.\n",
    "</p>"
   ]
  },
  {
   "cell_type": "code",
   "execution_count": null,
   "metadata": {
    "collapsed": true
   },
   "outputs": [],
   "source": [
    "import matplotlib.pyplot as plt\n",
    "from sklearn.model_selection import train_test_split\n",
    "\n",
    "X = np.concatenate((datos1, datos2), axis=0)\n",
    "n = 20 #ruido/noise\n",
    "y1 = np.zeros(datos1.shape[0]+n)\n",
    "y2 = np.ones(datos2.shape[0]-n) #media luna\n",
    "y = np.concatenate((y1,y2),axis=0)\n",
    "X_train, X_test, y_train, y_test = train_test_split(X, y, test_size=0.3, random_state=22)\n",
    "\n",
    "def plot(x,y):\n",
    "    fig = plt.figure(figsize=(12,6))\n",
    "    plt.scatter(x[:,0], x[:,1], s=50, c=y, cmap=plt.cm.Set3)\n",
    "    plt.title(\"Distribución del dataset\")\n",
    "    plt.show()\n",
    "    \n",
    "plot(X,y)\n",
    "    \n",
    "print(\"El primer conjunto tiene \" + str(len(y1))\n",
    "     + \" datos \\nEl segundo conjunto tiene \" + str(len(y2)) + \" datos\")"
   ]
  },
  {
   "cell_type": "markdown",
   "metadata": {},
   "source": [
    "<p  style=\"text-align: justify;\"> \n",
    "    **(b)** Entrene el clasificador Linear Discriminant Analysis (LDA) y visualice la frontera de decisión que\n",
    "define este algoritmo. Analice cualitativamente lo que observa.\n",
    "</p>"
   ]
  },
  {
   "cell_type": "code",
   "execution_count": null,
   "metadata": {
    "collapsed": true
   },
   "outputs": [],
   "source": [
    "import math\n",
    "import matplotlib.mlab as mlab\n",
    "def visualize_border(model,x,y,title=\"\"):\n",
    "    fig = plt.figure(figsize=(10,6))\n",
    "    plt.scatter(x[:,0], x[:,1], s=50, c=y, cmap=plt.cm.Set3)\n",
    "    h = .02 # step size in the mesh\n",
    "    x_min, x_max = x[:, 0].min() - 1, x[:, 0].max() + 1\n",
    "    y_min, y_max = x[:, 1].min() - 1, x[:, 1].max() + 1\n",
    "    xx, yy = np.meshgrid(np.arange(x_min, x_max, h),np.arange(y_min, y_max, h))\n",
    "    Z = model.predict(np.c_[xx.ravel(), yy.ravel()])\n",
    "    Z = Z.reshape(xx.shape)\n",
    "    plt.contour(xx, yy, Z, cmap=plt.cm.cool)\n",
    "    plt.title(title)\n",
    "    plt.show()\n",
    "    "
   ]
  },
  {
   "cell_type": "code",
   "execution_count": null,
   "metadata": {
    "collapsed": true
   },
   "outputs": [],
   "source": [
    "from sklearn.discriminant_analysis import LinearDiscriminantAnalysis as LDA\n",
    "model_LDA = LDA()\n",
    "model_LDA.fit(X_train,y_train)\n",
    "visualize_border(model_LDA,X_train,y_train,\"LDA\")\n",
    "visualize_border(model_LDA,X_test,y_test,\"LDA\")"
   ]
  },
  {
   "cell_type": "markdown",
   "metadata": {},
   "source": [
    "<p  style=\"text-align: justify;\"> \n",
    "    Se puede observar que el conjuto de datos 1 esta separado de una manera uniforme, pero en uno de sus extremos se mezclan con los datos del conjunto 2, haciendo imposible una separación para discriminar los datos con el algoritmo de LDA (a través de una recta). La única manera de poder utilizar el clasificador, es eliminando los outlayers, aunque esto es muy riesgoso porque pueden ser información valiosa.\n",
    "</p>\n",
    "    \n",
    "<p  style=\"text-align: justify;\"> \n",
    "    **(c)** Entrene el clasificador Quadratic Discriminant Analysis (QDA) y visualice la frontera de decisión que define este algoritmo. Analice cualitativamente lo que observa y compare con LDA, en qué difieren y en qué se asemejan ¿Qué distribución de probabilidad asumen cada uno?\n",
    "    \n",
    "</p>"
   ]
  },
  {
   "cell_type": "code",
   "execution_count": null,
   "metadata": {
    "collapsed": true
   },
   "outputs": [],
   "source": [
    "from sklearn.discriminant_analysis import QuadraticDiscriminantAnalysis as QDA\n",
    "import math as ma\n",
    "model_QDA = QDA()\n",
    "model_QDA.fit(X_train,y_train)\n",
    "visualize_border(model_QDA,X_train,y_train,\"QDA\")\n",
    "visualize_border(model_QDA,X_test,y_test,\"QDA\")"
   ]
  },
  {
   "cell_type": "markdown",
   "metadata": {},
   "source": [
    "<p  style=\"text-align: justify;\">\n",
    "    Analisis Cualitativo.\n",
    "</p>\n",
    "<p  style=\"text-align: justify;\"> \n",
    "    Al igual que en el caso de LDA, la separación entre ambos conjuntos es imposible, pero en este caso, QDA logra delimitar de mejor manera los conjutos integrando más datos al conjunto de datos azules. \n",
    "</p>\n",
    "\n",
    "<p  style=\"text-align: justify;\">\n",
    "    <ul>\n",
    "        <li>Semejanzas\n",
    "            <ul>\n",
    "                <li>Ambos métodos de clasificación no pueden separar en un 100% el conjunto de datos.</li>\n",
    "                <li>Aunque el tipo de separación es distinta, la cantidad de puntos que separan es prácticamente la misma.</li>\n",
    "            </ul>\n",
    "        </li>\n",
    "        <li>Diferencias\n",
    "            <ul>\n",
    "                <li>El tipo de separación para clasificar los datos es distinta: LDA - línea recta; QDA - parábola.</li>\n",
    "                <li>QDA prioriza la separación en donde está más centrado un tipo de datos, mientras que LDA tiende a separar a la \"mitad\" el dataset.</li>\n",
    "            </ul>\n",
    "        </li>\n",
    "    </ul>\n",
    "</p>\n",
    "<p  style=\"text-align: justify;\">\n",
    "    Tanto LDA como QDA asumen una distribución de probabilidad normal o Gaussiana.\n",
    "</p>"
   ]
  },
  {
   "cell_type": "markdown",
   "metadata": {},
   "source": [
    "<p  style=\"text-align: justify;\"> \n",
    "    **(d)** Compare cuantitativamente los clasificadores LDA y QDA en este dataset sintético mediante la métrica\n",
    "de error de clasificación.\n",
    "\n",
    "</p>"
   ]
  },
  {
   "cell_type": "code",
   "execution_count": null,
   "metadata": {
    "collapsed": true,
    "scrolled": true
   },
   "outputs": [],
   "source": [
    "from sklearn.metrics import accuracy_score\n",
    "\n",
    "y_pred_qda_train= model_QDA.predict(X_train)\n",
    "y_pred_lda_train = model_LDA.predict(X_train)\n",
    "y_pred_qda_test = model_QDA.predict(X_test)\n",
    "y_pred_lda_test = model_LDA.predict(X_test)\n",
    "print(\"Miss Classification Loss for LDA Train: %f\"%(1-accuracy_score(y_train, y_pred_lda_train)))\n",
    "print(\"Miss Classification Loss for QDA Train: %f\"%(1-accuracy_score(y_train, y_pred_qda_train)))\n",
    "print(\"Miss Classification Loss for LDA Test: %f\"%(1-accuracy_score(y_test, y_pred_lda_test)))\n",
    "print(\"Miss Classification Loss for QDA Test: %f\"%(1-accuracy_score(y_test, y_pred_qda_test)))"
   ]
  },
  {
   "cell_type": "markdown",
   "metadata": {},
   "source": [
    "<p  style=\"text-align: justify;\"> \n",
    "    **(e)** Construya una función que entrene/ajuste un modelo de Regresión Logística Regularizado (utilizando\n",
    "como penalizador la norma $l_2$), experimente con distintos valores del parámetro de regularización\n",
    "mediante el gráfico interactivo. Explique el significado y efecto esperado de este parámetro. Analice\n",
    "cualitativamente lo observado.\n",
    "\n",
    "</p>"
   ]
  },
  {
   "cell_type": "code",
   "execution_count": null,
   "metadata": {
    "collapsed": true
   },
   "outputs": [],
   "source": [
    "from ipywidgets import interactive\n",
    "def visualize_border_interactive(param):\n",
    "    model = train_model(param)\n",
    "    visualize_border(model,X_train,y_train)\n",
    "    visualize_border(model,X_test,y_test)\n",
    "\n",
    "from sklearn.linear_model import LogisticRegression as LR\n",
    "def train_model(param):\n",
    "    model=LR(C=param,penalty='l2')\n",
    "    model.fit(X_train,y_train)\n",
    "    return model\n",
    "\n",
    "p_min = 0.01\n",
    "p_max = 1\n",
    "interactive(visualize_border_interactive,param=(p_min,p_max, 0.01))"
   ]
  },
  {
   "cell_type": "markdown",
   "metadata": {},
   "source": [
    "<p  style=\"text-align: justify;\">\n",
    "    Analisis Cualitativo.\n",
    "</p>\n",
    "<p  style=\"text-align: justify;\"> \n",
    "Al aplicar la penalización con la norma $l_2$, lo que hace la $Logistic Regression$ es ir penalizando los datos con la regla de $Lasso$, es decir, que a mayor $\\lambda$ mayor es la penalización. Es por esto que al aumentar la penalización, los límites de separación se irán ajustando de manera que quede lo más equilibrado posible, aunque esto implique \"pasarse\" un poco de la pendiente normal que tenía la recta al utilizar LDA.\n",
    "<br>\n",
    "Como se puede observar, en $p_{min}$ se obtiene la separación con LDA y mientras aumenta el valor de la penalización hasta llegar al valor $p_{max}$ se tendrá la \"mejor\" separación o la más equitativa entre los datos. Notar que llegando al valor $p = 0.6$ luego si se sigue aumentando el valor de $p$, la pendiente de la recta no aumentará, por lo que se llegá a la mejor separación entre los límites de los conjuntos.\n",
    "</p>"
   ]
  },
  {
   "cell_type": "markdown",
   "metadata": {},
   "source": [
    "<p  style=\"text-align: justify;\"> \n",
    "    **(f)** Construya una función que entrene/ajuste una Máquina de Vectores de Soporte (SVM) Lineal. Mediante\n",
    "la imagen interactiva explore diferentes valores del parámetro de regularización C. Discuta el significado\n",
    "y efecto esperado de este parámetro. Analice cualitativamente lo observado.\n",
    "\n",
    "</p>"
   ]
  },
  {
   "cell_type": "code",
   "execution_count": null,
   "metadata": {
    "collapsed": true
   },
   "outputs": [],
   "source": [
    "from sklearn.svm import SVC as SVM #SVC is for classification\n",
    "def train_model(param):\n",
    "    model= SVM()\n",
    "    model.set_params(C=param,kernel='linear')\n",
    "    model.fit(X_train,y_train)\n",
    "    return model\n",
    "\n",
    "#use interactive\n",
    "p_min = 0.0001\n",
    "p_max = 1\n",
    "interactive(visualize_border_interactive,param=(p_min,p_max, 0.001))"
   ]
  },
  {
   "cell_type": "markdown",
   "metadata": {},
   "source": [
    "<p  style=\"text-align: justify;\">\n",
    "    Analisis Cualitativo.\n",
    "</p>\n",
    "<p  style=\"text-align: justify;\"> \n",
    "Las $SMV$ se caracterizan por maximizar la mínima distancia de un punto de un conjuto al hiperplano, por lo que en este caso, se tendrá que aplicar el parámetro $C$ para poder clasificar de una mejor manera los datos. La función que cumple el parámetro $C$ es similar a la norma $l_2$ en $Logistic Regression$, ya que este se encarga de decirle a la $SVM$ cuántos datos mal clasificados quieres evitar. Si se tiene un $C$ pequeño, se tendrá un mayor margen de la separación al hiperplano incluso si hay elementos mal clasificados, en cambio con un $C$ grande, la $SVM$ buscará el margen al hiperplano más pequeño.\n",
    "</p>"
   ]
  },
  {
   "cell_type": "markdown",
   "metadata": {},
   "source": [
    "<p  style=\"text-align: justify;\"> \n",
    "    **(g)** Construya una función que entrene/ajuste una Máquina de Vectores de Soporte (SVM) no Lineal.\n",
    "Mediante la imagen interactiva explore diferentes valores del parámetro de regularización C y con\n",
    "diferentes kernels. Discuta el significado y efecto esperado de este parámetro. Analice cualitativamente\n",
    "lo observado.\n",
    "</p>"
   ]
  },
  {
   "cell_type": "code",
   "execution_count": null,
   "metadata": {
    "collapsed": true
   },
   "outputs": [],
   "source": [
    "def visualize_border_interactive(param, kernel):\n",
    "    model = train_model(param, kernel)\n",
    "    visualize_border(model,X_train,y_train)\n",
    "    visualize_border(model,X_test,y_test)\n",
    "\n",
    "def train_model(param, kernel):\n",
    "    model= SVM()\n",
    "    model.set_params(C=param,kernel=kernel)\n",
    "    model.fit(X_train,y_train)\n",
    "    return model\n",
    "\n",
    "#use interactive\n",
    "p_min = 1\n",
    "p_max = 100\n",
    "interactive(visualize_border_interactive,param=(p_min,p_max, 1), kernel = ['rbf','poly','linear'])"
   ]
  },
  {
   "cell_type": "markdown",
   "metadata": {},
   "source": [
    "<p  style=\"text-align: justify;\">\n",
    "    Analisis Cualitativo.\n",
    "</p>\n",
    "\n",
    "<p  style=\"text-align: justify;\">\n",
    "    <ul>\n",
    "        <li>C - RBF: Para el kernel <i>Radial Basic Function</i>, lo que hace $C$ es disminuir el \"radio\" que encierra al conjunto de datos amarillo. $C$ actúa de la misma manera anteriormente descrita, por lo que a un mayor $C$, el \"radio\" será menor.\n",
    "        </li>\n",
    "        <li>C - Poly: Para el kernel <i>Polinomial</i>, lo que hace $C$ es ir ajustando el polinomio a la separación óptima de los conjuntos de datos\n",
    "        </li>\n",
    "        <li>C - Linear: Es una $SVM$ normal, se discutió en la pregunta anterior.\n",
    "        </li>\n",
    "    </ul>\n",
    "</p>"
   ]
  },
  {
   "cell_type": "markdown",
   "metadata": {},
   "source": [
    "<p  style=\"text-align: justify;\"> \n",
    "    **(h)** Construya un Arbol de Decisión de múltiples niveles para la clasificación del problema. Puede utilizar el criterio y la función de partición que prefiera. Mediante la imagen interactiva explore diferentes\n",
    "valores del parámetro de máxima profunidad del árbol. Discuta el significado y efecto esperado de este\n",
    "parámetro. Analice cualitativamente lo observado.\n",
    "</p>"
   ]
  },
  {
   "cell_type": "code",
   "execution_count": null,
   "metadata": {
    "collapsed": true
   },
   "outputs": [],
   "source": [
    "from sklearn.tree import DecisionTreeClassifier as Tree\n",
    "def visualize_border_interactive(param,criterion):\n",
    "    model = train_model(param,criterion)\n",
    "    visualize_border(model,X_train,y_train)\n",
    "    visualize_border(model,X_test,y_test)\n",
    "\n",
    "def train_model(param,criterion):\n",
    "    model = Tree() #edit the train_model function\n",
    "    model.set_params(max_depth=param,criterion='entropy',splitter='best')\n",
    "    model.fit(X_train,y_train)\n",
    "    y_pred_train = model.predict(X_train)\n",
    "    y_pred_test = model.predict(X_test)\n",
    "    print (\"Train Accuracy is : {0:.1f}%\".format(accuracy_score(y_train,y_pred_train)*100))\n",
    "    print (\"Test Accuracy is : {0:.1f}%\".format(accuracy_score(y_test,y_pred_test)*100))\n",
    "    return model\n",
    "\n",
    "#use interactive\n",
    "p_min = 1\n",
    "p_max = 20\n",
    "interactive(visualize_border_interactive,param=(p_min,p_max, 1),criterion = ['gini','entropy','variance'])"
   ]
  },
  {
   "cell_type": "markdown",
   "metadata": {},
   "source": [
    "<p  style=\"text-align: justify;\">\n",
    "    Analisis Cualitativo.\n",
    "</p>\n",
    "<p  style=\"text-align: justify;\"> \n",
    "    En este caso, los 3 criterios $gini$,$entropy$ y $variance$ se comportan de la misma manera en el Árbol de decisión. Lo que permite una mayor profundización en el árbol, es tener tantas separaciones de tal manera de obtener un conjunto de datos dentro de un espacio $A$ y otro en el espacio $B$, es decir, encacillar los conjuntos de datos.\n",
    "    <br>\n",
    "    Para este caso, el valor máximo de profundidad es $h_{max} = 11$ en donde se obtiene un 100% de acierto al separar el conjunto de datos amarillos del azul. Al seguir aumentando la cantidad de profundidad, lo único que se logra es separar los datos de otra manera.\n",
    "</p>"
   ]
  },
  {
   "cell_type": "markdown",
   "metadata": {},
   "source": [
    "<p  style=\"text-align: justify;\"> \n",
    "    **(i)** Construya un algoritmo $k-NN$ para la clasificación del problema. Mediante la imagen interactiva explore\n",
    "diferentes valores del parámetro $k$. Discuta el significado y efecto esperado de este parámetro. Analice\n",
    "cualitativamente lo observado.\n",
    "\n",
    "</p>"
   ]
  },
  {
   "cell_type": "code",
   "execution_count": null,
   "metadata": {
    "collapsed": true
   },
   "outputs": [],
   "source": [
    "from sklearn.neighbors import KNeighborsClassifier\n",
    "def visualize_border_interactive(param):\n",
    "    model = train_model(param)\n",
    "    visualize_border(model,X_train,y_train)\n",
    "    visualize_border(model,X_test,y_test)\n",
    "\n",
    "def train_model(param):\n",
    "    model = KNeighborsClassifier()\n",
    "    model.set_params(n_neighbors=param)\n",
    "    model.fit(X_train,y_train)\n",
    "    y_pred_train = model.predict(X_train)\n",
    "    y_pred_test = model.predict(X_test)\n",
    "    print (\"Train Accuracy is : {0:.1f}%\".format(accuracy_score(y_train,y_pred_train)*100))\n",
    "    print (\"Test Accuracy is : {0:.1f}%\".format(accuracy_score(y_test,y_pred_test)*100))\n",
    "\n",
    "    return model\n",
    "\n",
    "\n",
    "k_min = 1\n",
    "k_max = 20\n",
    "interactive(visualize_border_interactive,param=(k_min,k_max))"
   ]
  },
  {
   "cell_type": "markdown",
   "metadata": {},
   "source": [
    "<p  style=\"text-align: justify;\">\n",
    "    Analisis Cualitativo.\n",
    "</p>\n",
    "<p  style=\"text-align: justify;\"> \n",
    "La fase de entrenamiento del algoritmo consiste en almacenar los vectores característicos y las etiquetas de las clases de los ejemplos de entrenamiento. En la fase de clasificación, la evaluación del ejemplo (del que no se conoce su clase) es representada por un vector en el espacio característico. Se calcula la distancia entre los vectores almacenados y el nuevo vector, y se seleccionan los $k$ ejemplos más cercanos. El nuevo ejemplo es clasificado con la clase que más se repite en los vectores seleccionados, es por esto que al aumentar la cantidad de vecinos $k$, el ruido o sesgo de los datos debería disminuir, aunque depende netamente de los datos.\n",
    "<br>\n",
    "EL algoritmo $k-NN$ actúa localmente buscando los vecinos más cercanos, los cuales se espera nos den la mejor clasificación. Para este caso, basta tomar $k = 1$ para obtener una separación perfecta entre los conjuntos de datos, ya que a medida de que se aumenta el número de vecino $k$, el porcentaje de acierto de clasificación llega como máximo al $98.5\\%$. Notar que cuando los vecinos son impares, el porcentaje de acierto es más alto. \n",
    "</p>"
   ]
  },
  {
   "cell_type": "markdown",
   "metadata": {},
   "source": [
    "# 2 Análisis de audios como datos brutos"
   ]
  },
  {
   "cell_type": "markdown",
   "metadata": {},
   "source": [
    "<p  style=\"text-align: justify;\"> \n",
    "    En esta parte de la experencia se trabajará con datos de audios los cuales son directamente extraídos desde datos fuentes _.wav_, lo que corresponde a una señal de sonido en diferentes tiempos. El _dataset_ se denomina _ Heartbeat Sounds_, el cual consta de grabaciones de sonidos de latidos cardíacos normales y anormales, con distintas categorías para los latidos anormales. Los datos fueron obtenidos desde un publico general a través de la aplicación de iPhone iStethoscope Pro.\n",
    "\n",
    "</p>"
   ]
  },
  {
   "cell_type": "code",
   "execution_count": null,
   "metadata": {
    "collapsed": true
   },
   "outputs": [],
   "source": [
    "from scipy.io import wavfile\n",
    "def clean_filename(fname, string):\n",
    "    file_name = fname.split('/')[1]\n",
    "    if file_name[:2] == '__':\n",
    "        file_name = string + file_name\n",
    "    return file_name\n",
    "\n",
    "SAMPLE_RATE = 44100\n",
    "\n",
    "def load_wav_file(name, path):\n",
    "    s, b = wavfile.read(path + name)\n",
    "    assert s == SAMPLE_RATE\n",
    "    return b"
   ]
  },
  {
   "cell_type": "markdown",
   "metadata": {},
   "source": [
    "<p  style=\"text-align: justify;\"> \n",
    "    **(a)** Construya un dataframe con los datos a analizar. Describa el dataset y determine cuántos registros hay\n",
    "por clase.\n",
    "\n",
    "</p>"
   ]
  },
  {
   "cell_type": "code",
   "execution_count": null,
   "metadata": {
    "collapsed": true
   },
   "outputs": [],
   "source": [
    "import pandas as pd\n",
    "import numpy as np\n",
    "df = pd.read_csv('./heartbeat-sounds/set_a.csv')"
   ]
  },
  {
   "cell_type": "markdown",
   "metadata": {},
   "source": [
    "<p  style=\"text-align: justify;\">\n",
    "    El _dataset_ posee 176 datos, los cuales poseen 4 columnas cada uno.\n",
    "    <ul style=\"list-style-type:disc;margin-left:24px\">\n",
    "        <li>**dataset:** columna que indica a que dataset corresponde el dato</li>\n",
    "        <li>**fname:** corresponde al nombre del archivo de audio</li>\n",
    "        <li>**label:** puede ser \"normal\", estar en blanco (para datos sin etiqueta), y anormales donde pueden ser \"artifac\", \"extrahls\" y \"murmur\". </li>\n",
    "        <li>**sublabel:** columna sin datos.</li>\n",
    "\n",
    "    </ul>\n",
    "\n",
    "</p>\n",
    "\n",
    "<p  style=\"text-align: justify;\">\n",
    "    Descripcion de las categorias:\n",
    "    <ul style=\"list-style-type:disc;margin-left:24px;text-align: justify;\">\n",
    "        <li>**Normal:** Corresponden a sonidos de corazones normales y saludables.</li>\n",
    "        <li>**Murmur (Soplo):** Corresponden a soplos cardíacos, que suenan como si hubiera un ruido de \"silbido, rugido, estruendo o fluido turbulento\". </li>\n",
    "        <li>**Extra Heart Sound:** Correspoden a una medición en la cual se escucha un sonido adicional del corazón.  </li>\n",
    "        <li>**Artifact:** En esta categoria se encuentra una amplia gama de sonidos diferentes, que incluyen chillidos y ecos de realimentación, voz, música y ruido. Gerenalmente no hay sonidos cardíacos discernibles. Esta categoría es la más diferente de las otras. </li>\n",
    "        <li>**Unlabelled:** Son aquellas muestras que no estan etiquetadas en ninguna categoria. </li>\n",
    "    </ul>\n",
    "</p>\n",
    "\n",
    "|     Categoria     \t| Registro \t|\n",
    "|:-----------------:\t|:--------:\t|\n",
    "|       Normal      \t|    31    \t|\n",
    "|       Murmur      \t|    34    \t|\n",
    "| Extra Heart Sound \t|    19    \t|\n",
    "|      Artifact     \t|    40    \t|\n",
    "|     Unlabelled    \t|    52    \t|"
   ]
  },
  {
   "cell_type": "code",
   "execution_count": null,
   "metadata": {
    "collapsed": true
   },
   "outputs": [],
   "source": [
    "df.drop(['dataset','sublabel',],axis=1,inplace=True)"
   ]
  },
  {
   "cell_type": "code",
   "execution_count": null,
   "metadata": {
    "collapsed": true
   },
   "outputs": [],
   "source": [
    "print(\"Artifact\",df.label.value_counts()['artifact'])\n",
    "print(\"Murmur\", df.label.value_counts()['murmur'])\n",
    "print(\"Extra Heart Sound\", df.label.value_counts()['extrahls'])\n",
    "print(\"Normal\", df.label.value_counts()['normal'])\n",
    "print(\"Unlabelled\", 176-40-34-19-31)"
   ]
  },
  {
   "cell_type": "markdown",
   "metadata": {},
   "source": [
    "<p  style=\"text-align: justify;\"> \n",
    "    **(b)** Lea los archivos _.wav_ y transformelos en secuencias de tiempo. Realice un _padding_ de ceros al final de\n",
    "cada secuencia para que todas queden representadas con la misma cantidad de elementos, explique la\n",
    "importancia de realizar este paso.\n",
    "\n",
    "</p>"
   ]
  },
  {
   "cell_type": "code",
   "execution_count": null,
   "metadata": {
    "collapsed": true
   },
   "outputs": [],
   "source": [
    "def padd_zeros(array,length):\n",
    "    aux = np.zeros(length)\n",
    "    aux[:array.shape[0]] = array\n",
    "    return aux\n",
    "\n",
    "\n",
    "new_df =pd.DataFrame({'file_name' : df['fname'].apply(clean_filename,string='Aunlabelledtest')})\n",
    "new_df['time_series'] = new_df['file_name'].apply(load_wav_file, path='./heartbeat-sounds/set_a/')\n",
    "new_df['len_series'] = new_df['time_series'].apply(len)\n",
    "new_df['time_series'] = new_df['time_series'].apply(padd_zeros,length=max(new_df['len_series']))"
   ]
  },
  {
   "cell_type": "markdown",
   "metadata": {},
   "source": [
    "<p  style=\"text-align: justify;\"> \n",
    "    La importancia de realizar este paso, es normalizar la dimensionalidad de cada vector de datos, para así trabajar con todos en la misma dimensión.\n",
    "</p>"
   ]
  },
  {
   "cell_type": "markdown",
   "metadata": {},
   "source": [
    "<p  style=\"text-align: justify;\"> \n",
    "    **(c)** Manipule los datos y cambie las etiquetas de los audios por otras asignadas por un doctor experto,\n",
    "el cual afirma que estos cambios son requeridos. Vuelva a determinar cuántos registros hay por clase.\n",
    "Nótese que ahora son 3 clases ¿Explique la problemática de tener etiquetas mal asignadas en los datos?\n",
    "¿Un solo dato puede afectar esto?\n",
    "\n",
    "</p>"
   ]
  },
  {
   "cell_type": "code",
   "execution_count": null,
   "metadata": {
    "collapsed": true
   },
   "outputs": [],
   "source": [
    "new_labels =[0, 0, 0, 0, 0, 0, 0, 0, 0, 0, 0, 0, 0, 0, 0, 0, 0, 0, 0, 0, 0, 0, 0, 0, 0,\n",
    "             0, 0, 0, 0, 0, 0, 0, 0, 0, 0, 0, 0, 0, 0, 0, 2, 1, 1, 1, 1, 1, 1, 1, 1, 1,\n",
    "             1, 1, 1, 1, 1, 2, 1, 1, 1, 2, 2, 2, 1, 1, 2, 1, 2, 2, 1, 2, 2, 2, 2, 2, 2,\n",
    "             2, 2, 2, 2, 2, 2, 2, 2, 2, 2, 2, 2, 2, 2, 2, 2, 2, 2, 1, 1, 1, 1, 1, 1, 1,\n",
    "             1, 2, 1, 1, 1, 1, 1, 2, 1, 1, 1, 1, 1, 1, 1, 2, 2, 1, 1, 1, 1, 1, 2, 1, 0,\n",
    "             2, 2, 1, 1, 1, 1, 1, 0, 1, 0, 1, 1, 1, 2, 1, 0, 1, 1, 1, 1, 1, 2, 0, 0, 0,\n",
    "             0, 0, 0, 0, 1, 0, 0, 0, 0, 0, 0, 1, 0, 2, 1, 2, 2, 2, 2, 2, 2, 2, 2, 2, 2, 2]\n",
    "\n",
    "labels = ['artifact','normal/extrahls', 'murmur']\n",
    "new_df['target'] = [labels[i] for i in new_labels]"
   ]
  },
  {
   "cell_type": "code",
   "execution_count": null,
   "metadata": {
    "collapsed": true
   },
   "outputs": [],
   "source": [
    "print(\"Artifact\",new_df.target.value_counts()['artifact'])\n",
    "print(\"Murmur\", new_df.target.value_counts()['murmur'])\n",
    "print(\"Normal and EHSound\", new_df.target.value_counts()['normal/extrahls'])"
   ]
  },
  {
   "cell_type": "markdown",
   "metadata": {},
   "source": [
    "|          Categoria         \t| Registro \t|\n",
    "|:--------------------------:\t|:--------:\t|\n",
    "| Normal / Extra Heart Sound \t|    65    \t|\n",
    "|           Murmur           \t|    53    \t|\n",
    "|          Artifact          \t|    58    \t|"
   ]
  },
  {
   "cell_type": "markdown",
   "metadata": {},
   "source": [
    "<p  style=\"text-align: justify;\"> \n",
    "   Como ahora las etiquetas son 3, se particionaron la clasificación de datos anteriormente reasignandolos a las nuevas etiquetas. Esto puede provocar un problema en cuanto a la nueva clasificación, ya que las nuevas etiquetas pueden que no representen en su totalidad al dato asignado y quede mal asignado por haber particionado el set de clasificación anterior.\n",
    "</p>\n",
    "<p  style=\"text-align: justify;\"> \n",
    "   Un solo dato puede afectar el porcentaje de acierto que anteriormente se obtuvo con los 2 tipos de clasificaciones, porque como se explicó anteriormente, las nuevas clases podrían no representar en su totalidad al dato al momento de clasificarlo, aunque también, puede que se clasifique de mejor manera el set de datos. Un claro ejemplo es ver la asignación de los datos en una nueva Split de un árbol de decisión.\n",
    "</p>"
   ]
  },
  {
   "cell_type": "markdown",
   "metadata": {},
   "source": [
    "<p  style=\"text-align: justify;\"> \n",
    "    **(d)**  Codifique las distintas clases a valores numéricos para que puedan ser trabajados por los algoritmos\n",
    "clasificadores.\n",
    "\n",
    "\n",
    "</p>"
   ]
  },
  {
   "cell_type": "code",
   "execution_count": null,
   "metadata": {
    "collapsed": true
   },
   "outputs": [],
   "source": [
    "new_df[\"target\"] = new_df[\"target\"].astype('category')\n",
    "cat_columns = new_df.select_dtypes(['category']).columns\n",
    "new_df[cat_columns] = new_df[cat_columns].apply(lambda x: x.cat.codes)\n",
    "new_df.head()"
   ]
  },
  {
   "cell_type": "markdown",
   "metadata": {},
   "source": [
    "<p  style=\"text-align: justify;\"> \n",
    "    **(e)** Desordene los datos, evitando así el orden en el que vienen la gran mayoría de las etiquetas. Cree la\n",
    "matriz que conforma a los datos en sus dimensiones sin preprocesar, es decir, cada ejemplo es una\n",
    "secuencia de amplitudes en el tiempo. ¿Las dimensiones de ésta indica que puede generar problemas?\n",
    "¿De qué tipo?\n",
    "\n",
    "</p>"
   ]
  },
  {
   "cell_type": "code",
   "execution_count": null,
   "metadata": {
    "collapsed": true
   },
   "outputs": [],
   "source": [
    "new_df = new_df.sample(frac=1,random_state=44)\n",
    "X = np.stack(new_df['time_series'].values, axis=0)\n",
    "y = new_df.target.values\n",
    "X.shape"
   ]
  },
  {
   "cell_type": "markdown",
   "metadata": {},
   "source": [
    "<p  style=\"text-align: justify;\"> \n",
    "   Puede generar problemas de computo y tiempo. Al agregar dimensionalidad a un problema, trae como beneficio un mayor porcentaje de acierto, porque hay una mayor cantidad de atributos con los cuales clasificar de manera correcta los datos, pero la desventaja es que mientras de más dimensión sea el conjunto de datos, mayor tiempo tomará en procesar la data y clasificarla, por lo que en general, no es recomendable aumentar la dimensionalidad.\n",
    "</p>"
   ]
  },
  {
   "cell_type": "markdown",
   "metadata": {},
   "source": [
    "<p  style=\"text-align: justify;\"> \n",
    "    **(f)** Para pre procesar la secuencia en el tiempo realice una Transformada de Fourier discreta para pasar\n",
    "los datos desde el dominio de tiempos al dominio de frecuencias presentes en la señal de sonido.\n",
    "\n",
    "</p>"
   ]
  },
  {
   "cell_type": "code",
   "execution_count": null,
   "metadata": {
    "collapsed": true
   },
   "outputs": [],
   "source": [
    "X_fourier = np.abs(np.fft.fft(X))"
   ]
  },
  {
   "cell_type": "markdown",
   "metadata": {},
   "source": [
    "<p  style=\"text-align: justify;\"> \n",
    "    **(g)**  Para seguir con el pre procesamiento realice un muestreo representativo de los datos a través de una\n",
    "técnica de muestreo especializada en secuencias ¿En qué beneficia este paso? ¿Cómo podría determinar\n",
    "si el muestro es representativo?\n",
    "\n",
    "\n",
    "</p>"
   ]
  },
  {
   "cell_type": "code",
   "execution_count": null,
   "metadata": {
    "collapsed": true
   },
   "outputs": [],
   "source": [
    "from scipy import signal\n",
    "X_resampled = []\n",
    "for i in range(X_fourier.shape[0]):\n",
    "    sequence = X_fourier[i,:].copy()\n",
    "    resampled_sequence = signal.resample(sequence, 100000)\n",
    "    X_resampled.append(resampled_sequence)\n",
    "\n",
    "X_resampled = np.array(X_resampled)\n",
    "X_resampled.shape"
   ]
  },
  {
   "cell_type": "markdown",
   "metadata": {},
   "source": [
    "<p  style=\"text-align: justify;\"> \n",
    "   Este paso benificia en el tiempo computacional que tomará clasificar los datos, ya que reduce la dimensionalidad a su cuarta parte arpoximadamente.\n",
    "</p>\n",
    "<p  style=\"text-align: justify;\"> \n",
    "   Habría que ver todos los atributos y ver qué representan cada uno de ellos, para ver si en el proceso de mezclarlos y obtener nuevos atributos y conseguir una menor dimensionalidad, no se perdieron atributos representativos dentro del conjunto de atributos.\n",
    "</p>"
   ]
  },
  {
   "cell_type": "markdown",
   "metadata": {},
   "source": [
    "<p  style=\"text-align: justify;\"> \n",
    "    **(h)**  Genere un conjunto de pruebas mediante la técnica _hold-out validation_ para verificar la calidad de los\n",
    "clasificadores. ¿Cuántas clases tiene y de qué tamaño queda cada conjunto?\n",
    "\n",
    "\n",
    "\n",
    "</p>"
   ]
  },
  {
   "cell_type": "code",
   "execution_count": null,
   "metadata": {
    "collapsed": true
   },
   "outputs": [],
   "source": [
    "from sklearn.model_selection import train_test_split\n",
    "\n",
    "X_train, X_test, y_train, y_test = train_test_split(X_resampled, y, test_size=0.25, random_state=43)\n",
    "print(\"El set de entrenamiento tiene \" + str(len(X_train)) \n",
    "      + \" y el set de test tiene \" + str(len(X_test)) \n",
    "      + \" datos, y ambos tienen 10000 clases\")"
   ]
  },
  {
   "cell_type": "markdown",
   "metadata": {},
   "source": [
    "<p  style=\"text-align: justify;\"> \n",
    "    **(i)**  Realice un proceso de estandarizar los datos para ser trabajados adecuadamente. Recuerde que solo se\n",
    "debe ajustar (calcular media y desviación estándar) con el conjunto de entrenamiento.\n",
    "</p>"
   ]
  },
  {
   "cell_type": "code",
   "execution_count": null,
   "metadata": {
    "collapsed": true
   },
   "outputs": [],
   "source": [
    "from sklearn.preprocessing import StandardScaler\n",
    "std = StandardScaler(with_mean=True, with_std=True)\n",
    "std.fit(X_train)\n",
    "X_train = std.transform(X_train)\n",
    "X_test = std.transform(X_test)"
   ]
  },
  {
   "cell_type": "markdown",
   "metadata": {},
   "source": [
    "<p  style=\"text-align: justify;\"> \n",
    "    **(j)**  Realice una reducción de dimensionalidad a través de la técnica PCA, para representar los datos en $d = 2$ dimensiones. Recuerde que solo se debe ajustar (encontrar las componentes principales) con el conjunto de entrenamiento. Visualice apropiadamente la proyección en 2 dimensiones.\n",
    "</p>"
   ]
  },
  {
   "cell_type": "code",
   "execution_count": null,
   "metadata": {
    "collapsed": true
   },
   "outputs": [],
   "source": [
    "from sklearn.decomposition import PCA\n",
    "d=2\n",
    "pca_model = PCA(n_components=d)\n",
    "pca_model.fit(X_train)\n",
    "X_pca_train = pca_model.transform(X_train)\n",
    "X_pca_test = pca_model.transform(X_test)"
   ]
  },
  {
   "cell_type": "markdown",
   "metadata": {},
   "source": [
    "<p  style=\"text-align: justify;\"> \n",
    "    **(k)**  Entrene un modelo de Regresión Logística variando el parámetro de regularización $C$ construyendo un gráfico resumen del error en función de este hiper-parámetro. Además entrene una Máquina de Soporte Vectorial (SVM) con kernel lineal, variando el hiper-parámetro de regularizacion $C$ en el mismo rango que para la Regresión Logística, construyendo el mismo gráfico resumen. Compare.\n",
    "</p>"
   ]
  },
  {
   "cell_type": "code",
   "execution_count": null,
   "metadata": {
    "collapsed": true
   },
   "outputs": [],
   "source": [
    "from sklearn.linear_model import LogisticRegression as LR\n",
    "from sklearn.svm import SVC as SVM #SVC is for classification\n",
    "from sklearn.metrics import accuracy_score\n",
    "import matplotlib.pyplot as plt\n",
    "\n",
    "mse_LR_train = []\n",
    "mse_LR_test = []\n",
    "\n",
    "mse_SVM_train = []\n",
    "mse_SVM_test = []\n",
    "\n",
    "Ks = []\n",
    "Ks_ticks = [0.0001,0.01,0.1,1,10,100,1000]\n",
    "\n",
    "for i, Cs in enumerate((0.0001,0.01,0.1,1,10,100,1000)):\n",
    "    \n",
    "    model_LR = LR(C=Cs)\n",
    "    model_SVM = SVM(C=Cs)\n",
    "    \n",
    "    model_LR.fit(X_pca_train, y_train)\n",
    "    model_SVM.fit(X_pca_train, y_train)\n",
    "    \n",
    "    y_pred_LR_train = model_LR.predict(X_pca_train)\n",
    "    y_pred_LR_test = model_LR.predict(X_pca_test)\n",
    "    \n",
    "    y_pred_SVM_train = model_SVM.predict(X_pca_train)\n",
    "    y_pred_SVM_test = model_SVM.predict(X_pca_test)\n",
    "\n",
    "    mse_LR_train.append(1-accuracy_score(y_train, y_pred_LR_train))\n",
    "    mse_LR_test.append(1-accuracy_score(y_test, y_pred_LR_test))\n",
    "    \n",
    "    mse_SVM_train.append(1-accuracy_score(y_train, y_pred_SVM_train))\n",
    "    mse_SVM_test.append(1-accuracy_score(y_test, y_pred_SVM_test))\n",
    "    \n",
    "    Ks.append(i+1)\n",
    "    \n",
    "    #print(\"Miss Classification Loss for LR: %f\"%(1-accuracy_score(y_train, y_pred_LR)))\n",
    "    #print(\"Miss Classification Loss for SVM: %f\"%(1-accuracy_score(y_train, y_pred_SVM)))\n",
    "    \n",
    "    #print(\"C=%.5f\" % Cs)\n",
    "    \n",
    "\n",
    "plt.figure(figsize=(18,12))\n",
    "\n",
    "LR_plot = plt.subplot(2,1,1)\n",
    "LR_plot.plot(Ks, mse_LR_train, label='LR Training Misclassification Error')\n",
    "LR_plot.plot(Ks, mse_LR_test, label='LR Testing Misclassification Error')\n",
    "plt.legend(loc=3)\n",
    "plt.xlabel('Parámetro Regularizador $C$')\n",
    "plt.ylabel('Miss Classification Error')\n",
    "plt.axis([1,6,0.0, 0.7])\n",
    "plt.xticks(Ks, Ks_ticks)\n",
    "\n",
    "SVM_plot = plt.subplot(2,1,2)    \n",
    "SVM_plot.plot(Ks, mse_SVM_train, label = 'SVM Training Misclassification Error')\n",
    "SVM_plot.plot(Ks, mse_SVM_test, label = 'SVM Test Misclassification Error')\n",
    "plt.legend(loc=3)\n",
    "plt.xlabel('Parámetro Regularizador $C$')\n",
    "plt.ylabel('Miss Classification Error')\n",
    "plt.axis([1,6,0.0, 0.7])\n",
    "plt.xticks(Ks, Ks_ticks)\n",
    "\n",
    "plt.tight_layout()\n",
    "\n",
    "#plt.xlabel('Parametro Regularización $C$')\n",
    "#plt.ylabel('Miss Classification Error')\n",
    "\n",
    "plt.show()"
   ]
  },
  {
   "cell_type": "markdown",
   "metadata": {},
   "source": [
    "<p  style=\"text-align: justify;\"> \n",
    "Se puede apreciar a través de los gráficos que el método de Regesión Logística empieza con un menor error de entrenamiento y de test cuando el parámetro de regularización $C$ es $0.0001$ en comparación con la SVM, pero a medida de que $C$ aumenta, el parámetro de regularización $C$ regulariza de mejor manera los datos de entrenamiento a través de SVM que de LR, pero regulariza de mejor menera el conjunto de test en LR que en SVM, cuando  $C \\rightarrow \\infty$. El menor error alcanzado por LR es aproximadamente de $0.4$ en ambos conjuntos de datos, es más, sí $C \\rightarrow \\infty$, ambos errores convergen a $0.4$. Por otro lado, en SVM el menor error en el conjunto de test converge a 0 sí  $C \\rightarrow \\infty$, en cambio con el conjunto de test, su menor error es aproximadamente de $0.45$ con $C = 1$. <br>\n",
    "Luego de este análisis, se puede afirmar que para este conjunto de datos de entrenamiento, es mejor usar SVM con un parámetro de regularización $C$ grande para obtener el menor error posible y utilizar LR con un parámetro de regularización $C$ grande para obtener el menor error posible sobre el conjunto de datos de test.\n",
    "</p>"
   ]
  },
  {
   "cell_type": "markdown",
   "metadata": {},
   "source": [
    "<p  style=\"text-align: justify;\"> \n",
    "    **(l)**  Entrene un Arbol de Decisión, con la configuración que estime conveniente, variando el hiper-parámetro regularizador _max depth_, construyendo un gráfico resumen del error en función de este parámetro.\n",
    "Compare con los modelos anteriores.\n",
    "</p>"
   ]
  },
  {
   "cell_type": "code",
   "execution_count": null,
   "metadata": {
    "collapsed": true
   },
   "outputs": [],
   "source": [
    "from sklearn.tree import DecisionTreeClassifier as DTC\n",
    "Depths = range(1,30)\n",
    "\n",
    "mse_DTC_train = []\n",
    "mse_DTC_test = []\n",
    "\n",
    "for i in Depths:\n",
    "    model_DTC = DTC(max_depth = i)\n",
    "    \n",
    "    model_DTC.fit(X_pca_train, y_train)\n",
    "    \n",
    "    y_pred_DTC_train = model_DTC.predict(X_pca_train)\n",
    "    y_pred_DTC_test = model_DTC.predict(X_pca_test)\n",
    "    \n",
    "    mse_DTC_train.append(1-accuracy_score(y_train, y_pred_DTC_train))\n",
    "    mse_DTC_test.append(1-accuracy_score(y_test, y_pred_DTC_test))\n",
    "\n",
    "plt.figure(figsize=(18,12))\n",
    "\n",
    "DTC_plot = plt.subplot(1,1,1)\n",
    "DTC_plot.plot(Depths, mse_DTC_train, label='Training Misclassification Error')\n",
    "DTC_plot.plot(Depths, mse_DTC_test, label='Testing Misclassification Error')\n",
    "plt.legend(loc=3)\n",
    "plt.ylabel('Miss Classification Error')\n",
    "plt.xlabel('Depth DTC')\n",
    "plt.axis([0,30,0.0, 0.7])\n",
    "\n",
    "plt.show()\n"
   ]
  },
  {
   "cell_type": "markdown",
   "metadata": {},
   "source": [
    "<p  style=\"text-align: justify;\"> \n",
    "    En comparación con los resultados anteriores, es posible ver que LR sigue manteniendo superioridad sobre el conjuntos de datos de test, ya que obtiene el menor error entre los 3 métodos. En el caso del conjunto de entrenamiento, el DTC converge a 0 con mayor rápidez que la SVM con un parámetro regularizador $C$ grande. Además, se tiene la ventaja que el DTC es más simple de implementar y gastas menos recursos que la SVM (dependiendo de la profundidad del árbol).\n",
    "</p>"
   ]
  },
  {
   "cell_type": "markdown",
   "metadata": {},
   "source": [
    "<p  style=\"text-align: justify;\"> \n",
    "    **(m)**  Experimente con diferentes dimensiones $d$ para la proyección de PCA con el propósito de obtener un\n",
    "modelo con menor error. Construya una tabla o gráfico resumen.\n",
    "</p>"
   ]
  },
  {
   "cell_type": "code",
   "execution_count": null,
   "metadata": {
    "collapsed": true
   },
   "outputs": [],
   "source": [
    "from sklearn.decomposition import PCA\n",
    "import ipywidgets as widgets\n",
    "\n",
    "def plots_MCE_PCA(D, C_LR, C_SVM):\n",
    "    mse_LR_train = []\n",
    "    mse_LR_test = []\n",
    "    mse_SVM_train = []\n",
    "    mse_SVM_test = []\n",
    "\n",
    "    model_LR = LR(C=1000)\n",
    "    model_SVM = SVM(C=1)\n",
    "\n",
    "    dim = np.arange(1,D)\n",
    "\n",
    "    for d in range(1,D):\n",
    "\n",
    "        pca_model = PCA(n_components=d)\n",
    "        pca_model.fit(X_train)\n",
    "\n",
    "        X_pca_train = pca_model.transform(X_train)\n",
    "        X_pca_test = pca_model.transform(X_test)\n",
    "\n",
    "        model_LR.fit(X_pca_train, y_train)\n",
    "        model_SVM.fit(X_pca_train, y_train)\n",
    "\n",
    "        y_pred_LR_train = model_LR.predict(X_pca_train)\n",
    "        y_pred_LR_test = model_LR.predict(X_pca_test)\n",
    "\n",
    "        y_pred_SVM_train = model_SVM.predict(X_pca_train)\n",
    "        y_pred_SVM_test = model_SVM.predict(X_pca_test)\n",
    "\n",
    "        mse_LR_train.append(1-accuracy_score(y_train, y_pred_LR_train))\n",
    "        mse_LR_test.append(1-accuracy_score(y_test, y_pred_LR_test))\n",
    "        mse_SVM_train.append(1-accuracy_score(y_train, y_pred_SVM_train))\n",
    "        mse_SVM_test.append(1-accuracy_score(y_test, y_pred_SVM_test))\n",
    "\n",
    "\n",
    "    plt.figure(figsize=(18,12))\n",
    "\n",
    "    LR_plot = plt.subplot(2,1,1)\n",
    "    LR_plot.plot(dim, mse_LR_train, label='LR Training Misclassification Error')\n",
    "    LR_plot.plot(dim, mse_LR_test, label='LR Testing Misclassification Error')\n",
    "    plt.legend(loc='center right')\n",
    "    plt.xlabel('Dimensiones')\n",
    "    plt.ylabel('Miss Classification Error')\n",
    "\n",
    "    SVM_plot = plt.subplot(2,1,2)    \n",
    "    SVM_plot.plot(dim, mse_SVM_train, label = 'SVM Training Misclassification Error')\n",
    "    SVM_plot.plot(dim, mse_SVM_test, label = 'SVM Test Misclassification Error')\n",
    "    plt.legend(loc='center right')\n",
    "    plt.xlabel('Dimensiones')\n",
    "    plt.ylabel('Miss Classification Error')\n",
    "    plt.tight_layout()\n",
    "\n",
    "    #plt.xlabel('Parametro Regularización $C$')\n",
    "    #plt.ylabel('Miss Classification Error')\n",
    "\n",
    "    plt.show()  \n",
    "\n",
    "widgets.interact(plots_MCE_PCA,D = (1,20),C_LR = (1,1000,1),C_SVM=(1,1000,1))"
   ]
  },
  {
   "cell_type": "markdown",
   "metadata": {},
   "source": [
    "<p  style=\"text-align: justify;\"> \n",
    "    **(n)**  Realice otra reducción de dimensionalidad ahora a través de la técnica LDA, para representar los datos en $d = 2$ dimensiones. Recuerde que sólo se debe ajustar con el conjunto de entrenamiento, si se muestra un warning explique el porqué. Visualice apropiadamente la proyección en $2$ dimensiones.\n",
    "</p>"
   ]
  },
  {
   "cell_type": "code",
   "execution_count": null,
   "metadata": {
    "collapsed": true
   },
   "outputs": [],
   "source": [
    "from sklearn.discriminant_analysis import LinearDiscriminantAnalysis as LDA\n",
    "\n",
    "model_lda = LDA(n_components=2)\n",
    "model_lda.fit(X_train,y_train)\n",
    "X_lda_train = model_lda.transform(X_train)\n",
    "X_lda_test = model_lda.transform(X_test)\n",
    "\n",
    "plot(X_lda_train, y_train)\n",
    "#plot(X_pca_test, y_test)\n",
    "\n",
    "#y_pred_lda = model_lda.predict(X_pca_train)\n",
    "\n",
    "#visualize_border(model_lda, X_train, y_train,\"LDA\")\n",
    "#print(X_pca_train)\n",
    "#https://stats.stackexchange.com/questions/29385/collinear-variables-in-multiclass-lda-training"
   ]
  },
  {
   "cell_type": "markdown",
   "metadata": {},
   "source": [
    "<p  style=\"text-align: justify;\"> \n",
    "    **(o)**  Con el propósito de encontrar el mejor modelo vuelva a realizar el item k) con el l) en el nuevo espacio generado por la representación según las d dimensiones de la proyección LDA. Esta nueva representación ¿mejora o empeora el desempeño? Explique.\n",
    "</p>"
   ]
  },
  {
   "cell_type": "code",
   "execution_count": null,
   "metadata": {
    "collapsed": true
   },
   "outputs": [],
   "source": [
    "from sklearn.linear_model import LogisticRegression as LR\n",
    "from sklearn.svm import SVC as SVM #SVC is for classification\n",
    "from sklearn.metrics import accuracy_score\n",
    "import matplotlib.pyplot as plt\n",
    "from sklearn.discriminant_analysis import LinearDiscriminantAnalysis as LDA\n",
    "from sklearn.tree import DecisionTreeClassifier as DTC\n",
    "\n",
    "\n",
    "model_lda = LDA(n_components=2)\n",
    "model_lda.fit(X_train,y_train)\n",
    "X_lda_train = model_lda.transform(X_train)\n",
    "X_lda_test = model_lda.transform(X_test)\n",
    "\n",
    "print(X_lda_train.shape)\n",
    "print(X_lda_test.shape)\n",
    "\n",
    "\n",
    "mse_LR_train = []\n",
    "mse_LR_test = []\n",
    "\n",
    "mse_SVM_train = []\n",
    "mse_SVM_test = []\n",
    "\n",
    "Ks = []\n",
    "Ks_ticks = [0.0001,0.01,0.1,1,10,100,1000]\n",
    "\n",
    "for i, Cs in enumerate((0.0001,0.01,0.1,1,10,100,1000)):\n",
    "    \n",
    "    model_LR = LR(C=Cs)\n",
    "    model_SVM = SVM(C=Cs)\n",
    "    \n",
    "    model_LR.fit(X_lda_train, y_train)\n",
    "    model_SVM.fit(X_lda_train, y_train)\n",
    "    \n",
    "    y_pred_LR_train = model_LR.predict(X_lda_train)\n",
    "    y_pred_LR_test = model_LR.predict(X_lda_test)\n",
    "    \n",
    "    y_pred_SVM_train = model_SVM.predict(X_lda_train)\n",
    "    y_pred_SVM_test = model_SVM.predict(X_lda_test)\n",
    "\n",
    "    mse_LR_train.append(1-accuracy_score(y_train, y_pred_LR_train))\n",
    "    mse_LR_test.append(1-accuracy_score(y_test, y_pred_LR_test))\n",
    "    \n",
    "    mse_SVM_train.append(1-accuracy_score(y_train, y_pred_SVM_train))\n",
    "    mse_SVM_test.append(1-accuracy_score(y_test, y_pred_SVM_test))\n",
    "    \n",
    "    Ks.append(i+1)\n",
    "    \n",
    "    #print(\"Miss Classification Loss for LR: %f\"%(1-accuracy_score(y_train, y_pred_LR)))\n",
    "    #print(\"Miss Classification Loss for SVM: %f\"%(1-accuracy_score(y_train, y_pred_SVM)))\n",
    "    \n",
    "    #print(\"C=%.5f\" % Cs)\n",
    "    \n",
    "\n",
    "plt.figure(figsize=(18,12))\n",
    "\n",
    "LR_plot = plt.subplot(2,1,1)\n",
    "LR_plot.plot(Ks, mse_LR_train, label='LR Training Misclassification Error')\n",
    "LR_plot.plot(Ks, mse_LR_test, label='LR Testing Misclassification Error')\n",
    "plt.legend(loc=3)\n",
    "plt.xlabel('Parámetro Regularizador $C$')\n",
    "plt.ylabel('Miss Classification Error')\n",
    "plt.axis([1,6,0.0, 0.7])\n",
    "plt.xticks(Ks, Ks_ticks)\n",
    "\n",
    "SVM_plot = plt.subplot(2,1,2)    \n",
    "SVM_plot.plot(Ks, mse_SVM_train, label = 'SVM Training Misclassification Error')\n",
    "SVM_plot.plot(Ks, mse_SVM_test, label = 'SVM Test Misclassification Error')\n",
    "plt.legend(loc=3)\n",
    "plt.xlabel('Parámetro Regularizador $C$')\n",
    "plt.ylabel('Miss Classification Error')\n",
    "plt.axis([1,6,0.0, 0.7])\n",
    "plt.xticks(Ks, Ks_ticks)\n",
    "\n",
    "plt.tight_layout()\n",
    "\n",
    "#plt.xlabel('Parametro Regularización $C$')\n",
    "#plt.ylabel('Miss Classification Error')\n",
    "\n",
    "plt.show()\n",
    "\n",
    "\n",
    "Depths = range(1,30)\n",
    "\n",
    "mse_DTC_train = []\n",
    "mse_DTC_test = []\n",
    "\n",
    "for i in Depths:\n",
    "    model_DTC = DTC(max_depth = i)\n",
    "    \n",
    "    model_DTC.fit(X_lda_train, y_train)\n",
    "    \n",
    "    y_pred_DTC_train = model_DTC.predict(X_lda_train)\n",
    "    y_pred_DTC_test = model_DTC.predict(X_lda_test)\n",
    "    \n",
    "    mse_DTC_train.append(1-accuracy_score(y_train, y_pred_DTC_train))\n",
    "    mse_DTC_test.append(1-accuracy_score(y_test, y_pred_DTC_test))\n",
    "\n",
    "plt.figure(figsize=(18,12))\n",
    "\n",
    "DTC_plot = plt.subplot(1,1,1)\n",
    "DTC_plot.plot(Depths, mse_DTC_train, label='Training Misclassification Error')\n",
    "DTC_plot.plot(Depths, mse_DTC_test, label='Testing Misclassification Error')\n",
    "plt.legend(loc=3)\n",
    "plt.ylabel('Miss Classification Error')\n",
    "plt.xlabel('Depth')\n",
    "plt.axis([0,30,0.0, 0.7])\n",
    "\n",
    "plt.show()\n"
   ]
  },
  {
   "cell_type": "markdown",
   "metadata": {},
   "source": [
    "<p  style=\"text-align: justify;\"> \n",
    "   <ul>\n",
    "       <li>LR:\n",
    "           <ul>\n",
    "             <li>Error de Entrenamiento: Al empezar mejora de un 0.55 a un 0.05 aproximadamente y se mantiene constante, logrando una notable diferencia con respecto al error de 0.4 obtenido anteriormente en el punto k).</li>\n",
    "             <li>Error de Test: Al empezar mejora de un 0.6 a un 0.3 aproximadamente y se mantiene constante en 0.3, obteniendo un mejor resultado que el anterior, ya que este convergia a 0.4.</li>\n",
    "           </ul>\n",
    "       </li>\n",
    "       <li>SVM:\n",
    "            <ul>\n",
    "             <li>Error de Entrenamiento: empieza con el mismo error pero converge más rápido a 0 a medida de que el parámetro regularizador $C$ aumenta. Anteriormente se tenía que con un $C > 1000$ convergía a 0, en cambio ahora con los datos ajustados con LDA, basta con un $C = 30$.</li>\n",
    "             <li>Error de Test: al igual que en el error de entrenamiento, empieza con el mismo error pero logra un error menor a medida de que el parámetro regularizador $C$ crece. En este caso, el mínimo error de test es de un 0.4, una décima más grande que el error anterior.</li>\n",
    "           </ul>\n",
    "       </li>\n",
    "       <li>DTC:\n",
    "            <ul>\n",
    "             <li>Error de Entrenamiento: converge de manera más rápida, ya que con profundida igual a 5, el error de entrenamiento alcanza el valor 0.</li>\n",
    "             <li>Error de Test: En este caso, aumenta el error de test en comparación en el punto l) en aproximadamente 0.05 décimas.</li>\n",
    "           </ul>\n",
    "       </li>\n",
    "   </ul>\n",
    "</p>"
   ]
  },
  {
   "cell_type": "markdown",
   "metadata": {},
   "source": [
    "<p  style=\"text-align: justify;\"> \n",
    "    **(p)**  Intente mejorar el desempeño de los algoritmos ya entrenados. Diseñe ahora sus propias características (_feature crafting_) a partir de los datos brutos (secuencia de amplitudes), puede inspirarse en otros trabajos [6] [7] si desea.\n",
    "</p>\n",
    "\n",
    "- [6]  https://www.kaggle.com/primaryobjects/voicegender/data\n",
    "- [7]  Gamit, M. R., Dhameliya, P. K., & Bhatt, N. S. (2015). Classification Techniques for Speech Recognition: A Review. vol, 5, 58-63.\n"
   ]
  },
  {
   "cell_type": "code",
   "execution_count": null,
<<<<<<< HEAD
   "metadata": {
    "collapsed": true
   },
   "outputs": [],
   "source": []
=======
   "metadata": {},
   "outputs": [],
   "source": [
    "import pandas as pd\n",
    "import numpy as np\n",
    "from scipy.stats import iqr\n",
    "from scipy.stats import skew\n",
    "from scipy import stats\n",
    "\n",
    "def centroide(X,Y):\n",
    "    return (sum(X)/len(X),sum(Y)/len(Y))\n",
    "\n",
    "df = pd.read_csv('./heartbeat-sounds/set_a.csv')\n",
    "df.drop(['dataset','sublabel',],axis=1,inplace=True)\n",
    "new_df =pd.DataFrame({'file_name' : df['fname'].apply(clean_filename,string='Aunlabelledtest')})\n",
    "new_df['time_series'] = new_df['file_name'].apply(load_wav_file, path='./heartbeat-sounds/set_a/')\n",
    "new_df['len_series'] = new_df['time_series'].apply(len)\n",
    "new_df['time_series'] = new_df['time_series'].apply(padd_zeros,length=max(new_df['len_series']))\n",
    "new_labels =[0, 0, 0, 0, 0, 0, 0, 0, 0, 0, 0, 0, 0, 0, 0, 0, 0, 0, 0, 0, 0, 0, 0, 0, 0,\n",
    "             0, 0, 0, 0, 0, 0, 0, 0, 0, 0, 0, 0, 0, 0, 0, 2, 1, 1, 1, 1, 1, 1, 1, 1, 1,\n",
    "             1, 1, 1, 1, 1, 2, 1, 1, 1, 2, 2, 2, 1, 1, 2, 1, 2, 2, 1, 2, 2, 2, 2, 2, 2,\n",
    "             2, 2, 2, 2, 2, 2, 2, 2, 2, 2, 2, 2, 2, 2, 2, 2, 2, 2, 1, 1, 1, 1, 1, 1, 1,\n",
    "             1, 2, 1, 1, 1, 1, 1, 2, 1, 1, 1, 1, 1, 1, 1, 2, 2, 1, 1, 1, 1, 1, 2, 1, 0,\n",
    "             2, 2, 1, 1, 1, 1, 1, 0, 1, 0, 1, 1, 1, 2, 1, 0, 1, 1, 1, 1, 1, 2, 0, 0, 0,\n",
    "             0, 0, 0, 0, 1, 0, 0, 0, 0, 0, 0, 1, 0, 2, 1, 2, 2, 2, 2, 2, 2, 2, 2, 2, 2, 2]\n",
    "labels = ['artifact','normal/extrahls', 'murmur']\n",
    "new_df['target'] = [labels[i] for i in new_labels]\n",
    "new_df[\"target\"] = new_df[\"target\"].astype('category')\n",
    "cat_columns = new_df.select_dtypes(['category']).columns\n",
    "new_df[cat_columns] = new_df[cat_columns].apply(lambda x: x.cat.codes)\n",
    "new_df.head()\n",
    "new_df = new_df.sample(frac=1,random_state=44)\n",
    "X = np.stack(new_df['time_series'].values, axis=0)\n",
    "y = new_df.target.values\n",
    "X_mean = []\n",
    "X_std = np.std(X)\n",
    "X_median = []\n",
    "X_Q25 = []\n",
    "X_Q75 = []\n",
    "X_IQR = []\n",
    "X_skew = []\n",
    "X_spectral_entropy = []\n",
    "X_mode = []\n",
    "X_centroide = []\n",
    "X_max = []\n",
    "X_min = []\n",
    "for i in range(0,X.shape[0]):\n",
    "    X_mean.append(np.mean(X[i]))\n",
    "    X_median.append(np.median(X[i]))\n",
    "    X_Q25.append((pd.Series(X[i])).quantile(0.25))\n",
    "    X_Q75.append((pd.Series(X[i])).quantile(0.75))\n",
    "    X_IQR.append(iqr(X[i]))\n",
    "    X_skew.append(skew(X[i]))\n",
    "    X_spectral_entropy.append(stats.entropy(X[i]))\n",
    "    X_mode.append(stats.mode(X[i]))\n",
    "    #X_centroide.append(centroide(X[i],X[i+1]))"
   ]
>>>>>>> 40b74ad864d550dfc896613dec6cfc47b99ea105
  },
  {
   "cell_type": "markdown",
   "metadata": {},
   "source": [
    "# 3 Análisis de emociones en tweets"
   ]
  },
  {
   "cell_type": "markdown",
   "metadata": {},
   "source": [
    "<p  style=\"text-align: justify;\"> \n",
    "    **(a)**  Construya un dataframe con los datos a analizar. Determine cuántas clases existen, cuántos registros por clase y describa el _dataset_.\n",
    "\n",
    "</p>"
   ]
  },
  {
   "cell_type": "code",
   "execution_count": 86,
   "metadata": {},
   "outputs": [
    {
     "name": "stdout",
     "output_type": "stream",
     "text": [
      "[nltk_data] Downloading package stopwords to\n",
      "[nltk_data]     C:\\Users\\EntE\\AppData\\Roaming\\nltk_data...\n",
      "[nltk_data]   Package stopwords is already up-to-date!\n"
     ]
    },
    {
     "data": {
      "text/plain": [
       "True"
      ]
     },
     "execution_count": 86,
     "metadata": {},
     "output_type": "execute_result"
    }
   ],
   "source": [
    "import nltk\n",
    "from nltk.corpus import stopwords\n",
    "nltk.download('stopwords')"
   ]
  },
  {
   "cell_type": "code",
   "execution_count": 87,
   "metadata": {},
   "outputs": [
    {
     "data": {
      "image/png": "iVBORw0KGgoAAAANSUhEUgAABlIAAANKCAYAAADx9NOzAAAABHNCSVQICAgIfAhkiAAAAAlwSFlz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\nkcIYY4wxxhhjjDHGGGOMMSbj/wDHvBaJdq2/VgAAAABJRU5ErkJggg==\n",
      "text/plain": [
       "<matplotlib.figure.Figure at 0x17c9c62d710>"
      ]
     },
     "metadata": {},
     "output_type": "display_data"
    }
   ],
   "source": [
    "import pandas as pd\n",
    "import re\n",
    "from sklearn.model_selection import train_test_split\n",
    "df = pd.read_csv('./text_emotion.csv')\n",
    "df_copia = df.copy()\n",
    "valores = df.sentiment.value_counts()\n",
    "def plot_valores(valores):\n",
    "    plt.rcdefaults()\n",
    "    fig, ax = plt.subplots(figsize=(20, 10))\n",
    "    location = np.arange(len(valores))\n",
    "    width = 0.45\n",
    "    uno = ax.bar(location, valores.values(),  width, align='center', color=\"#F5A9F2\")\n",
    "    ax.set_xticks(location)\n",
    "    ax.set_xticklabels(list(valores.keys()), fontsize=15)\n",
    "    ax.set_title('Data Distribution')\n",
    "    plt.show()\n",
    "    return\n",
    "\n",
    "plot_valores(dict(valores))"
   ]
  },
  {
   "cell_type": "markdown",
   "metadata": {},
   "source": [
    "| Sentimiento | Registro |\n",
    "|:-----------:|:--------:|\n",
    "|   Neutral   |   8638   |\n",
    "|    Worry    |   8459   |\n",
    "|  Happiness  |   5209   |\n",
    "|   Sadness   |   5165   |\n",
    "|     Love    |   3842   |\n",
    "|   Surprise  |   2187   |\n",
    "|     Fun     |   1776   |\n",
    "|    Relief   |   1526   |\n",
    "|     Hate    |   1323   |\n",
    "|    Empty    |    827   |\n",
    "|  Enthusiasm |    759   |\n",
    "|   Boredom   |    179   |\n",
    "|    Anger    |    110   |"
   ]
  },
  {
   "cell_type": "markdown",
   "metadata": {},
   "source": [
    "<p  style=\"text-align: justify;\"> \n",
    "    **(b)**  Construya un conjunto de entrenamiento y otro de pruebas, a través de una máscara aleatoria, para verificar los resultados de los algoritmos.\n",
    "</p>"
   ]
  },
  {
   "cell_type": "code",
   "execution_count": 88,
   "metadata": {},
   "outputs": [
    {
     "data": {
      "text/html": [
       "<div>\n",
       "<style>\n",
       "    .dataframe thead tr:only-child th {\n",
       "        text-align: right;\n",
       "    }\n",
       "\n",
       "    .dataframe thead th {\n",
       "        text-align: left;\n",
       "    }\n",
       "\n",
       "    .dataframe tbody tr th {\n",
       "        vertical-align: top;\n",
       "    }\n",
       "</style>\n",
       "<table border=\"1\" class=\"dataframe\">\n",
       "  <thead>\n",
       "    <tr style=\"text-align: right;\">\n",
       "      <th></th>\n",
       "      <th>tweet_id</th>\n",
       "      <th>sentiment</th>\n",
       "      <th>author</th>\n",
       "      <th>content</th>\n",
       "    </tr>\n",
       "  </thead>\n",
       "  <tbody>\n",
       "    <tr>\n",
       "      <th>0</th>\n",
       "      <td>1956967341</td>\n",
       "      <td>empty</td>\n",
       "      <td>xoshayzers</td>\n",
       "      <td>@tiffanylue i know  i was listenin to bad habi...</td>\n",
       "    </tr>\n",
       "    <tr>\n",
       "      <th>1</th>\n",
       "      <td>1956967666</td>\n",
       "      <td>sadness</td>\n",
       "      <td>wannamama</td>\n",
       "      <td>Layin n bed with a headache  ughhhh...waitin o...</td>\n",
       "    </tr>\n",
       "    <tr>\n",
       "      <th>2</th>\n",
       "      <td>1956967696</td>\n",
       "      <td>sadness</td>\n",
       "      <td>coolfunky</td>\n",
       "      <td>Funeral ceremony...gloomy friday...</td>\n",
       "    </tr>\n",
       "    <tr>\n",
       "      <th>3</th>\n",
       "      <td>1956967789</td>\n",
       "      <td>enthusiasm</td>\n",
       "      <td>czareaquino</td>\n",
       "      <td>wants to hang out with friends SOON!</td>\n",
       "    </tr>\n",
       "    <tr>\n",
       "      <th>4</th>\n",
       "      <td>1956968416</td>\n",
       "      <td>neutral</td>\n",
       "      <td>xkilljoyx</td>\n",
       "      <td>@dannycastillo We want to trade with someone w...</td>\n",
       "    </tr>\n",
       "  </tbody>\n",
       "</table>\n",
       "</div>"
      ],
      "text/plain": [
       "     tweet_id   sentiment       author  \\\n",
       "0  1956967341       empty   xoshayzers   \n",
       "1  1956967666     sadness    wannamama   \n",
       "2  1956967696     sadness    coolfunky   \n",
       "3  1956967789  enthusiasm  czareaquino   \n",
       "4  1956968416     neutral    xkilljoyx   \n",
       "\n",
       "                                             content  \n",
       "0  @tiffanylue i know  i was listenin to bad habi...  \n",
       "1  Layin n bed with a headache  ughhhh...waitin o...  \n",
       "2                Funeral ceremony...gloomy friday...  \n",
       "3               wants to hang out with friends SOON!  \n",
       "4  @dannycastillo We want to trade with someone w...  "
      ]
     },
     "execution_count": 88,
     "metadata": {},
     "output_type": "execute_result"
    }
   ],
   "source": [
    "import numpy as np\n",
    "np.random.seed(22)\n",
    "msk = np.random.rand(len(df)) < 0.8\n",
    "\n",
    "#from sklearn.model_selection import train_test_split\n",
    "#X_train, X_test, y_train, y_test = train_test_split(X_resampled, y, test_size=0.25, random_state=43)\n",
    "\n",
    "#print(df['content'][2])\n",
    "df.head()"
   ]
  },
  {
   "cell_type": "markdown",
   "metadata": {},
   "source": [
    "<p  style=\"text-align: justify;\"> \n",
    "    **(c)**  Implemente y explique un pre-procesamiento para los tweets para dejarlos en un formato estándarizado\n",
    "en el cual se podrán trabajar.\n",
    "\n",
    "</p>"
   ]
  },
  {
   "cell_type": "code",
<<<<<<< HEAD
   "execution_count": 89,
=======
   "execution_count": null,
>>>>>>> 40b74ad864d550dfc896613dec6cfc47b99ea105
   "metadata": {
    "collapsed": true
   },
   "outputs": [],
   "source": [
    "df.drop(['tweet_id','author'],axis=1,inplace=True)"
   ]
  },
  {
   "cell_type": "code",
   "execution_count": 90,
   "metadata": {
    "collapsed": true
   },
   "outputs": [],
   "source": [
    "emoticons_str = r\"\"\"\n",
    "    (?:\n",
    "        [:=;] # Eyes\n",
    "        [oO\\-]? # Nose (optional)\n",
    "        [D\\)\\[\\(\\]/\\\\OpP] # Mouth\n",
    "    )\"\"\"\n",
    " \n",
    "regex_str = [\n",
    "    emoticons_str,\n",
    "    r'<[^>]+>', # HTML tags\n",
    "    r'(?:@[\\w_]+)', # @-mentions\n",
    "    r\"(?:\\#+[\\w_]+[\\w\\'_\\-]*[\\w_]+)\", # hash-tags\n",
    "    r'http[s]?://(?:[a-z]|[0-9]|[$-_@.&amp;+]|[!*\\(\\),]|(?:%[0-9a-f][0-9a-f]))+', # URLs\n",
    " \n",
    "    r'(?:(?:\\d+,?)+(?:\\.?\\d+)?)', # numbers\n",
    "    r\"(?:[a-z][a-z'\\-_]+[a-z])\", # words with - and '\n",
    "    r'(?:[\\w_]+)', # other words\n",
    "    r'(?:\\S)' # anything else\n",
    "]\n",
    "\n",
    "\n",
    "tokens_re = re.compile(r'('+'|'.join(regex_str)+')', re.VERBOSE | re.IGNORECASE)\n",
    "emoticon_re = re.compile(r'^'+emoticons_str+'$', re.VERBOSE | re.IGNORECASE)\n",
    "\n",
    "def tokenize(s):\n",
    "    return tokens_re.findall(s)\n",
    " \n",
    "def preprocess(s, lowercase=True):\n",
    "    tokens = tokenize(s)\n",
    "    if lowercase:\n",
    "        tokens = [token if emoticon_re.search(token) else token.lower() for token in tokens]\n",
    "    return tokens\n",
    "\n",
    "#print(preprocess(df['content'][0]))\n",
    "\n",
    "#df['content'] = df['content'].str\n",
    "df['content'] = df['content'].apply(preprocess)\n"
   ]
  },
  {
   "cell_type": "code",
   "execution_count": 91,
   "metadata": {},
   "outputs": [
    {
     "data": {
      "text/html": [
       "<div>\n",
       "<style>\n",
       "    .dataframe thead tr:only-child th {\n",
       "        text-align: right;\n",
       "    }\n",
       "\n",
       "    .dataframe thead th {\n",
       "        text-align: left;\n",
       "    }\n",
       "\n",
       "    .dataframe tbody tr th {\n",
       "        vertical-align: top;\n",
       "    }\n",
       "</style>\n",
       "<table border=\"1\" class=\"dataframe\">\n",
       "  <thead>\n",
       "    <tr style=\"text-align: right;\">\n",
       "      <th></th>\n",
       "      <th>sentiment</th>\n",
       "      <th>content</th>\n",
       "    </tr>\n",
       "  </thead>\n",
       "  <tbody>\n",
       "    <tr>\n",
       "      <th>0</th>\n",
       "      <td>empty</td>\n",
       "      <td>[@tiffanylue, know, listenin, bad, habit, earl...</td>\n",
       "    </tr>\n",
       "    <tr>\n",
       "      <th>1</th>\n",
       "      <td>sadness</td>\n",
       "      <td>[layin, bed, headache, ughhhh, waitin, call]</td>\n",
       "    </tr>\n",
       "    <tr>\n",
       "      <th>2</th>\n",
       "      <td>sadness</td>\n",
       "      <td>[funeral, ceremony, gloomy, friday]</td>\n",
       "    </tr>\n",
       "    <tr>\n",
       "      <th>3</th>\n",
       "      <td>enthusiasm</td>\n",
       "      <td>[hang, friends, soon]</td>\n",
       "    </tr>\n",
       "    <tr>\n",
       "      <th>4</th>\n",
       "      <td>neutral</td>\n",
       "      <td>[@dannycastillo, want, trade, someone, houston...</td>\n",
       "    </tr>\n",
       "  </tbody>\n",
       "</table>\n",
       "</div>"
      ],
      "text/plain": [
       "    sentiment                                            content\n",
       "0       empty  [@tiffanylue, know, listenin, bad, habit, earl...\n",
       "1     sadness       [layin, bed, headache, ughhhh, waitin, call]\n",
       "2     sadness                [funeral, ceremony, gloomy, friday]\n",
       "3  enthusiasm                              [hang, friends, soon]\n",
       "4     neutral  [@dannycastillo, want, trade, someone, houston..."
      ]
     },
     "execution_count": 91,
     "metadata": {},
     "output_type": "execute_result"
    }
   ],
   "source": [
    "stop_words = [\"rt\",\"via\",\"a\",\"able\",\"about\",\"across\",\"after\",\"all\",\"almost\",\"also\",\"am\",\"among\",\"an\",\"and\",\"any\",\"are\",\"as\",\"at\",\"be\",\"because\",\"been\",\"but\",\"by\",\"can\",\"cannot\",\"could\",\"dear\",\"did\",\"do\",\"does\",\"either\",\"else\",\"ever\",\"every\",\"for\",\"from\",\"get\",\"got\",\"had\",\"has\",\"have\",\"he\",\"her\",\"hers\",\"him\",\"his\",\"how\",\"however\",\"i\",\"if\",\"in\",\"into\",\"is\",\"it\",\"its\",\"just\",\"least\",\"let\",\"like\",\"likely\",\"may\",\"me\",\"might\",\"most\",\"must\",\"my\",\"neither\",\"no\",\"nor\",\"not\",\"of\",\"off\",\"often\",\"on\",\"only\",\"or\",\"other\",\"our\",\"own\",\"rather\",\"said\",\"say\",\"says\",\"she\",\"should\",\"since\",\"so\",\"some\",\"than\",\"that\",\"the\",\"their\",\"them\",\"then\",\"there\",\"these\",\"they\",\"this\",\"tis\",\"to\",\"too\",\"twas\",\"us\",\"wants\",\"was\",\"we\",\"were\",\"what\",\"when\",\"where\",\"which\",\"while\",\"who\",\"whom\",\"why\",\"will\",\"with\",\"would\",\"yet\",\"you\",\"your\"]\n",
    "stop = stopwords.words('english')\n",
    "result = list(set(stop)|set(stop_words)|set(list('abcdefghijklmnopqrstuvwxyz')) | set(list('!\"#$%&\\'()*+,-./:;<=>?@[\\\\]^_`{|}~')) | set(list('0123456789')))\n",
    "\n",
    "df['content'] = df['content'].apply(lambda x: [item for item in x if item not in result])\n",
    "df.head()"
   ]
  },
  {
   "cell_type": "markdown",
   "metadata": {},
   "source": [
    "<p  style=\"text-align: justify;\"> \n",
    "    **(d)**  Haga una reducción binaria al problema, para trabajarlo como un problema de clasificación de dos clases.\n",
    "Para esto, agrupe las distintas emociones como positivas y negativas (defina un criterio), se recomienda\n",
    "codificar las clases como +1 y −1 respectivamente. Recuerde tener presente que el desbalanceo de los\n",
    "datos puede afectar considerablemente al modelo.\n",
    "\n",
    "</p>"
   ]
  },
  {
   "cell_type": "code",
   "execution_count": 92,
   "metadata": {},
   "outputs": [
    {
     "data": {
      "text/plain": [
       "-1    26888\n",
       " 1    13112\n",
       "Name: sentiment, dtype: int64"
      ]
     },
     "execution_count": 92,
     "metadata": {},
     "output_type": "execute_result"
    }
   ],
   "source": [
    "uno = ['happiness', 'love', 'fun', 'relief', 'enthusiasm']\n",
    "\n",
    "df['sentiment'] = df['sentiment'].apply(lambda x: 1 if x in uno else -1)\n",
    "df.sentiment.value_counts()"
   ]
  },
  {
   "cell_type": "markdown",
   "metadata": {},
   "source": [
    "<p  style=\"text-align: justify;\"> \n",
    "    **(e)**  Para construir un clasificador que determine automáticamente la polaridad de un trozo de texto, será\n",
    "necesario representar los tweets $\\{t_i\\}_{i=1}^{n}$ disponibles como vectores de características (features). El tipo\n",
    "de características más utilizado consiste en contar cuántas veces aparecen ciertos términos/palabras en\n",
    "el texto. Para esto, es necesario un vocabulario que, por lo general, se construye mediante la unión de\n",
    "todas las palabras que se observen en los tweets.\n",
    "\n",
    "</p>\n",
    "<p  style=\"text-align: justify;\">\n",
    "Se recomienda utilizar las librerías ofrecidas por sklearn de feature extraction in text [12] (_CountVectorizer_ y _TfidfVectorizer_). Recuerde realizar el ajuste (_fit_) únicamente con el conjunto de entrenamiento, para luego transformar el conjunto de pruebas (con el método transform).\n",
    "\n",
    "</p>\n",
    "\n",
    "\n",
    "- [12] http://scikit-learn.org/stable/modules/classes.html#module-sklearn.feature"
   ]
  },
  {
   "cell_type": "code",
   "execution_count": 93,
   "metadata": {
    "collapsed": true
   },
   "outputs": [],
   "source": [
    "from sklearn.model_selection import train_test_split\n",
    "from sklearn.feature_extraction.text import CountVectorizer, TfidfVectorizer\n",
    "\n",
    "X = df['content'].values\n",
    "y = df.sentiment.values\n",
    "XX = df_copia['content'].values\n",
    "yy = y.copy()\n",
    "\n",
    "X_train, X_test, y_train, y_test = train_test_split(X, y, test_size=0.3, random_state=22)\n",
    "XX_train, XX_test, yy_train, yy_test = train_test_split(XX, yy, test_size=0.3, random_state=22)\n",
    " \n",
    "def fake(x):\n",
    "    return x\n",
    "\n",
    "#vectorizer = TfidfVectorizer(tokenizer=fake, preprocessor=fake, lowercase=False)\n",
    "\n",
    "vectorizer = CountVectorizer(tokenizer=fake, preprocessor=fake, lowercase=False)\n",
    "#CV_fit = CV_model.fit_transform(X_train.tostring())\n",
    "#X_CV_train = CV_model.transform(X_train)\n",
    "\n",
    "X_CV_train = vectorizer.fit_transform(X_train)\n",
<<<<<<< HEAD
    "X_CV_test = vectorizer.transform(X_test)\n"
=======
    "X_CV_test = vectorizer.transform(X_test)\n",
    "\n",
    "type(X_CV_train)"
   ]
  },
  {
   "cell_type": "code",
   "execution_count": null,
   "metadata": {
    "collapsed": true
   },
   "outputs": [],
   "source": [
    "from sklearn.discriminant_analysis import QuadraticDiscriminantAnalysis\n",
    "qda_model = QuadraticDiscriminantAnalysis()\n",
    "qda_model.fit(X_train.toarray(), df_train['sentiment'])\n",
    "\n",
    "qda_score_train = qda_model.score(X_train.toarray(), df_train['sentiment'])\n",
    "qda_score_test = qda_model.score(X_test.toarray(), df_test['sentiment'])\n",
    "\n",
    "print(\"NB Train score %f\"%qda_score_train)\n",
    "print(\"NB Test score %f\"%qda_score_test)"
   ]
  },
  {
   "cell_type": "code",
   "execution_count": null,
   "metadata": {
    "collapsed": true
   },
   "outputs": [],
   "source": [
    "from sklearn.discriminant_analysis import LinearDiscriminantAnalysis\n",
    "lda_model = LinearDiscriminantAnalysis()\n",
    "lda_model.fit(X_train.toarray(), df_train['sentiment'])\n",
    "\n",
    "lda_score_train = lda_model.score(X_train, df_train['sentiment'])\n",
    "lda_score_test = lda_model.score(X_test, df_test['sentiment'])\n",
    "\n",
    "print(\"NB Train score %f\"%lda_score_train)\n",
    "print(\"NB Test score %f\"%lda_score_test)"
>>>>>>> 40b74ad864d550dfc896613dec6cfc47b99ea105
   ]
  },
  {
   "cell_type": "markdown",
   "metadata": {},
   "source": [
    "<p  style=\"text-align: justify;\"> \n",
    "    **(f)**  Entrene y compare al menos 5 de los diferentes clasificadores vistos en clases para clasificación binaria (por ejemplo: Navie Bayes, Multinomial Naive Bayes, LDA, QDA, Regresión logística, SVM y Arboles de decisión) sobre el conjunto de entrenamiento verificando su desempeño sobre ambos conjuntos (entrenamiento y de pruebas), construyendo un gráfico resumen del error de éstos.\n",
    "\n",
    "</p>"
   ]
  },
  {
   "cell_type": "code",
   "execution_count": 94,
   "metadata": {
    "collapsed": true
   },
   "outputs": [],
   "source": [
    "import matplotlib.pyplot as plt\n",
    "def plot_comparation(ScoreTrain, ScoreTest):\n",
    "    plt.rcdefaults()\n",
    "    fig, ax = plt.subplots()\n",
    "    location = np.arange(len(ScoreTrain))\n",
    "    width = 0.45\n",
    "    \n",
    "    uno = ax.barh(location, ScoreTrain.values(),  width, align='center', color=\"#F5A9F2\")\n",
    "    dos = ax.barh(location + width, ScoreTest.values(), width, align='center', color=\"#A9F5F2\")\n",
    "    ax.set_yticks(location + width/2)\n",
    "    ax.set_yticklabels((\"NB\", \"DTC\", \"LR\", \"KNC\", \"MLPC\"))\n",
    "    \n",
    "    ax.set_xlabel('Score')\n",
    "    ax.set_title('Train and Test Score')\n",
    "    ax.legend((uno[0], dos[0]), ('Train', 'Test'), bbox_to_anchor=(1,0.6))\n",
    "    #autolabel(uno)\n",
    "    #autolabel(dos)\n",
    "    ax.invert_yaxis()\n",
    "    plt.show()\n",
    "    return\n",
    "\n",
    "ScoreTrain = {}\n",
    "ScoreTest = {}"
   ]
  },
  {
   "cell_type": "code",
   "execution_count": 95,
   "metadata": {},
   "outputs": [
    {
     "name": "stdout",
     "output_type": "stream",
     "text": [
      "NB Train score 0.840857\n",
      "NB Test score 0.724167\n"
     ]
    }
   ],
   "source": [
    "from sklearn.naive_bayes import BernoulliNB\n",
    "nb_model = BernoulliNB()\n",
    "nb_model.fit(X_CV_train, y_train)\n",
    "\n",
    "ScoreTrain[\"NB Train\"] = nb_model.score(X_CV_train, y_train)\n",
    "ScoreTest[\"NB Test\"] = nb_model.score(X_CV_test, y_test)\n",
    "\n",
    "print(\"NB Train score %f\"%ScoreTrain[\"NB Train\"])\n",
    "print(\"NB Test score %f\"%ScoreTest[\"NB Test\"])"
   ]
  },
  {
   "cell_type": "code",
   "execution_count": 96,
   "metadata": {},
   "outputs": [
    {
     "name": "stdout",
     "output_type": "stream",
     "text": [
      "DTC Train score 0.997714\n",
      "DTC Test score 0.713000\n"
     ]
    }
   ],
   "source": [
    "from sklearn.tree import DecisionTreeClassifier as DTC\n",
    "DTC_model = DTC()\n",
    "DTC_model.fit(X_CV_train, y_train)\n",
    "\n",
    "ScoreTrain[\"DTC Train\"] = DTC_model.score(X_CV_train, y_train)\n",
    "ScoreTest[\"DTC Test\"] = DTC_model.score(X_CV_test, y_test)\n",
    "\n",
    "print(\"DTC Train score %f\"%ScoreTrain[\"DTC Train\"])\n",
    "print(\"DTC Test score %f\"%ScoreTest[\"DTC Test\"])"
   ]
  },
  {
   "cell_type": "code",
   "execution_count": 97,
   "metadata": {},
   "outputs": [
    {
     "name": "stdout",
     "output_type": "stream",
     "text": [
      "LR Train score 0.898786\n",
      "LR Test score 0.750500\n"
     ]
    }
   ],
   "source": [
    "from sklearn.linear_model import LogisticRegression as LR\n",
    "LR_model = LR()\n",
    "LR_model.fit(X_CV_train, y_train)\n",
    "\n",
    "ScoreTrain[\"LR Train\"] = LR_model.score(X_CV_train, y_train)\n",
    "ScoreTest[\"LR Test\"] = LR_model.score(X_CV_test, y_test)\n",
    "\n",
    "print(\"LR Train score %f\"%ScoreTrain[\"LR Train\"])\n",
    "print(\"LR Test score %f\"%ScoreTest[\"LR Test\"])"
   ]
  },
  {
   "cell_type": "code",
   "execution_count": 98,
   "metadata": {},
   "outputs": [
    {
     "name": "stdout",
     "output_type": "stream",
     "text": [
      "KNC Train score 0.757821\n",
      "KNC Test score 0.705583\n"
     ]
    }
   ],
   "source": [
    "from sklearn.neighbors import KNeighborsClassifier as KNC\n",
    "KNC_model = KNC()\n",
    "KNC_model.fit(X_CV_train, y_train)\n",
    "\n",
    "ScoreTrain[\"KNC Train\"] = KNC_model.score(X_CV_train, y_train)\n",
    "ScoreTest[\"KNC Test\"] = KNC_model.score(X_CV_test, y_test)\n",
    "\n",
    "print(\"KNC Train score %f\"%ScoreTrain[\"KNC Train\"])\n",
    "print(\"KNC Test score %f\"%ScoreTest[\"KNC Test\"])"
   ]
  },
  {
   "cell_type": "code",
   "execution_count": 99,
   "metadata": {},
   "outputs": [
    {
     "name": "stdout",
     "output_type": "stream",
     "text": [
      "MLPC Train score 0.997429\n",
      "MLPC Test score 0.695750\n"
     ]
    }
   ],
   "source": [
    "from sklearn.neural_network import MLPClassifier as MLPC\n",
    "MLPC_model = MLPC()\n",
    "MLPC_model.fit(X_CV_train, y_train)\n",
    "\n",
    "ScoreTrain[\"MLPC Train\"] = MLPC_model.score(X_CV_train, y_train)\n",
    "ScoreTest[\"MLPC Test\"] = MLPC_model.score(X_CV_test, y_test)\n",
    "\n",
    "print(\"MLPC Train score %f\"%ScoreTrain[\"MLPC Train\"])-\n",
    "print(\"MLPC Test score %f\"%ScoreTest[\"MLPC Test\"])"
   ]
  },
  {
   "cell_type": "code",
   "execution_count": 100,
   "metadata": {},
   "outputs": [
    {
     "data": {
      "image/png": "iVBORw0KGgoAAAANSUhEUgAAApAAAAHHCAYAAAAI1miCAAAABHNCSVQICAgIfAhkiAAAAAlwSFlz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\nhQAJAAAAKwRIAAAAWPn/AIqlv3nk58rEAAAAAElFTkSuQmCC\n",
      "text/plain": [
       "<matplotlib.figure.Figure at 0x17c9a377b70>"
      ]
     },
     "metadata": {},
     "output_type": "display_data"
    }
   ],
   "source": [
    "plot_comparation(ScoreTrain, ScoreTest)"
   ]
  },
  {
   "cell_type": "markdown",
   "metadata": {},
   "source": [
    "<p  style=\"text-align: justify;\"> \n",
    "    **(g)**  Utilice y explique las métricas que calcula la función classification report de la librería sklearn. En base\n",
    "a las distintas métricas calculadas ¿Cuáles clasificadores son los que mejor se comportan?\n",
    "</p>\n",
    "\n",
    "<p  style=\"text-align: justify;\"> \n",
    "    _Classification Report_ entrega las metricas principales de los clasificadores, es decir, un resumen de la precisión, el recall y el valor F.\n",
    "</p>\n",
    "<p  style=\"text-align: justify;\"> \n",
    "    En este contexto se denomina precisión (denominado igualmente valor positivo predicho) como a la fracción de instancias recuperadas que son relevantes, mientras recall (denominado igualmente sensibilidad o exhaustividad) es la fracción de instancias relevantes que han sido recuperadas.\n",
    "</p>\n",
    "\n",
    "<img src=\"precisionrecall.png\">\n",
    "\n",
    "<p  style=\"text-align: justify;\"> \n",
    "    El valor F (en ingles F-score) es la medida de precisión que tiene un test. Considera el valor de precisión $p$ y el de recall $r$ de test para calcular el valor.\n",
    "</p>\n",
    "\n",
    "<img src=\"F1.svg\">"
   ]
  },
  {
   "cell_type": "code",
   "execution_count": 101,
   "metadata": {},
   "outputs": [
    {
     "name": "stdout",
     "output_type": "stream",
     "text": [
      "___________________________________________________________________________\n",
      "Training Accuracy: 0.840857\n",
      "Test Accuracy: 0.724144\n",
      "Detailed Analysis Testing Results ...\n",
      "             precision    recall  f1-score   support\n",
      "\n",
      "          +       0.72      0.96      0.82      8069\n",
      "          -       0.73      0.25      0.37      3931\n",
      "\n",
      "avg / total       0.73      0.72      0.68     12000\n",
      "\n",
      "___________________________________________________________________________\n",
      "Training Accuracy: 0.997714\n",
      "Test Accuracy: 0.712976\n",
      "Detailed Analysis Testing Results ...\n",
      "             precision    recall  f1-score   support\n",
      "\n",
      "          +       0.78      0.81      0.79      8069\n",
      "          -       0.57      0.52      0.54      3931\n",
      "\n",
      "avg / total       0.71      0.71      0.71     12000\n",
      "\n",
      "___________________________________________________________________________\n",
      "Training Accuracy: 0.898786\n",
      "Test Accuracy: 0.750479\n",
      "Detailed Analysis Testing Results ...\n",
      "             precision    recall  f1-score   support\n",
      "\n",
      "          +       0.78      0.88      0.83      8069\n",
      "          -       0.66      0.49      0.56      3931\n",
      "\n",
      "avg / total       0.74      0.75      0.74     12000\n",
      "\n",
      "___________________________________________________________________________\n",
      "Training Accuracy: 0.757821\n",
      "Test Accuracy: 0.705559\n",
      "Detailed Analysis Testing Results ...\n",
      "             precision    recall  f1-score   support\n",
      "\n",
      "          +       0.71      0.95      0.81      8069\n",
      "          -       0.66      0.21      0.32      3931\n",
      "\n",
      "avg / total       0.69      0.71      0.65     12000\n",
      "\n",
      "___________________________________________________________________________\n",
      "Training Accuracy: 0.997429\n",
      "Test Accuracy: 0.695808\n",
      "Detailed Analysis Testing Results ...\n",
      "             precision    recall  f1-score   support\n",
      "\n",
      "          +       0.77      0.78      0.77      8069\n",
      "          -       0.54      0.53      0.53      3931\n",
      "\n",
      "avg / total       0.69      0.70      0.69     12000\n",
      "\n"
     ]
    }
   ],
   "source": [
    "from sklearn.metrics import classification_report\n",
    "def score_the_model(model,x,y,xt,yt):\n",
    "    acc_tr = model.score(x,y)\n",
    "    acc_test = model.score(xt[:-1],yt[:-1])\n",
    "    print(\"___________________________________________________________________________\")\n",
    "    print(\"Training Accuracy: %f\"%(acc_tr))\n",
    "    print(\"Test Accuracy: %f\"%(acc_test))\n",
    "    print(\"Detailed Analysis Testing Results ...\")\n",
    "    print(classification_report(yt, model.predict(xt), target_names=['+','-']))\n",
    "    \n",
    "score_the_model(nb_model, X_CV_train, y_train, X_CV_test, y_test)\n",
    "score_the_model(DTC_model, X_CV_train, y_train, X_CV_test, y_test)\n",
    "score_the_model(LR_model, X_CV_train, y_train, X_CV_test, y_test)\n",
    "score_the_model(KNC_model, X_CV_train, y_train, X_CV_test, y_test)\n",
    "score_the_model(MLPC_model, X_CV_train, y_train, X_CV_test, y_test)"
   ]
  },
  {
   "cell_type": "markdown",
   "metadata": {},
   "source": [
    "<p  style=\"text-align: justify;\"> \n",
    "    **(h)**  [Opcional] Visualice las predicciones de algún modelo generativo (probabilístico) definido anteriormente, tomando un subconjunto aleatorio de tweets de pruebas y explorando las probabilidades que asigna el clasificador a cada clase.\n",
    "\n",
    "</p>"
   ]
  },
  {
   "cell_type": "code",
<<<<<<< HEAD
   "execution_count": 102,
   "metadata": {},
   "outputs": [
    {
     "name": "stdout",
     "output_type": "stream",
     "text": [
      "Negative \t Positive \t Tweet\n",
      "[ 0.8055448  0.1944552] \t may the forth be with you\n",
      "[ 0.33714355  0.66285645] \t alright @brainerdbaptist. let's do this\n",
      "[ 0.81266317  0.18733683] \t @Bunny90san ooo... No I believe they've all closed down, even the ones at the airport\n",
      "[ 0.98235855  0.01764145] \t never thought my daughter would want to borrow my clothes... even less that she would suggest that i borrow hers... luckily it didnt fit\n",
      "[ 0.95731808  0.04268192] \t Morning all.... Sorry for missing tweets yesterday @damohopo @Boddingtons How are you today?\n",
      "[ 0.11032983  0.88967017] \t @OfficalJonasBro just watched it on youtube and its hilarious. i laughed trough it.. seriously guys so funny.. greetings from Germany...\n",
      "[ 0.47862292  0.52137708] \t to all mothers out there... or even soon to be mothers &gt;8D happy mother's day y'all\n",
      "[ 0.84367077  0.15632923] \t upss..her name is writen like chesca.\n",
      "[ 0.51470246  0.48529754] \t @mitch_400iso Me too, she was adorable and you could tell the pressure got to her.\n",
      "[ 0.81649748  0.18350252] \t http://twitpic.com/4wdui - She's so festive aint' she hehe\n",
      "[ 0.87501008  0.12498992] \t It looks as though I am sick little friends\n",
      "[ 0.93222163  0.06777837] \t @shakamaiden DAMN dude... dia 06, 20 e 27 eu tenho curso na DRC  flash expert...\n",
      "[ 0.26821111  0.73178889] \t @albertposis congratulations ! you guys finish a month earlier than we do. booo\n",
      "[ 0.81182698  0.18817302] \t Moment over.... fly now in car\n",
      "[ 0.61246879  0.38753121] \t wow i'm tired... going to bed, GOOD NIGHT\n"
     ]
    }
   ],
   "source": [
    "import random\n",
    "test_pred = LR_model.predict_proba(X_CV_test)\n",
    "#print(test_pred)\n",
    "random.seed(22)\n",
    "spl = random.sample(range(len(test_pred)), 15)\n",
    "\n",
    "\n",
    "print(\"Negative \\t Positive \\t Tweet\")\n",
    "for i in spl:\n",
    "    print(test_pred[i],\"\\t\",XX_test[i])\n"
=======
   "execution_count": null,
   "metadata": {
    "collapsed": true
   },
   "outputs": [],
   "source": [
    "test_pred = model.predict_proba(X_test)\n",
    "spl = random.sample(xrange(len(test_pred)), 15)\n",
    "for text, sentiment in zip(df_test.content[spl], test_pred[spl]):\n",
    "    print sentiment, text\n"
>>>>>>> 40b74ad864d550dfc896613dec6cfc47b99ea105
   ]
  },
  {
   "cell_type": "markdown",
   "metadata": {},
   "source": [
    "<p  style=\"text-align: justify;\"> \n",
    "    **(i)**  Ahora deberá extender el problema a las múltiples clases que tiene presente (las distintas emociones),\n",
    "es decir, su trabajo será el de predecir una de las distintas emociones de cada _tweet_. Para esto utilice el\n",
    "mismo pre-procesamiento realizado en el punto c) y las características generadas mediante las técnicas\n",
    "en el punto e). Recuerde que tendrá que codificar las distintas clases como valores numéricos enteros.\n",
    "\n",
    "\n",
    "</p>"
   ]
  },
  {
   "cell_type": "code",
   "execution_count": 103,
   "metadata": {
    "collapsed": true
   },
   "outputs": [],
   "source": [
    "from sklearn.model_selection import train_test_split\n",
    "from sklearn.feature_extraction.text import CountVectorizer, TfidfVectorizer\n",
    "\n",
    "df = pd.read_csv('./text_emotion.csv')\n",
    "df.shape\n",
    "np.random.seed(22)\n",
    "msk = np.random.rand(len(df)) < 0.8\n",
    "df.drop(['tweet_id','author'],axis=1,inplace=True)\n",
    "df['content'] = df['content'].apply(preprocess)\n",
    "df['content'] = df['content'].apply(lambda x: [item for item in x if item not in result])\n",
    "\n",
    "#Sentimientos\n",
    "#Neutral, Worry, Happiness, Sadness, Love, Surprise, Fun, Relief, Hate, Empty, Enthusiasm, Boredom, Anger\n",
    "\n",
    "#Propuesta orden de sentimiento\n",
    "#Happiness, Fun, Love, Surprise, Enthusiasm, Relief, Neutral, Empty,  Boredom, Worry, Sadness, Hate, Anger\n",
    "#\"Happiness\", \"Fun\", \"Love\", \"Surprise\", \"Enthusiasm\", \"Relief\", \"Neutral\", \"Empty\", \"Boredom\", \"Worry\", \"Sadness\", \"Hate\", \"Anger\"\n",
    "\n",
    "emotions = [\"Happiness\", \"Love\", \"Fun\", \"Surprise\", \"Enthusiasm\", \"Relief\", \"Neutral\", \"Empty\", \"Boredom\", \"Worry\", \"Sadness\", \"Anger\", \"Hate\"]\n",
    "\n",
    "emotions =  [x.lower() for x in reversed(emotions)]\n",
    "\n",
    "df['sentiment'] = df['sentiment'].apply(lambda x: emotions.index(x)-6)\n",
    "df.head()\n",
    "\n",
    "X = df['content'].values\n",
    "y = df.sentiment.values\n",
    "\n",
    "X_train, X_test, y_train, y_test = train_test_split(X, y, test_size=0.3, random_state=22)\n",
    "\n",
    "def fake(x):\n",
    "    return x\n",
    "\n",
    "#vectorizer = TfidfVectorizer(tokenizer=fake, preprocessor=fake, lowercase=False)\n",
    "\n",
    "vectorizer = CountVectorizer(tokenizer=fake, preprocessor=fake, lowercase=False)\n",
    "\n",
    "X_CV_train = vectorizer.fit_transform(X_train)\n",
    "X_CV_test = vectorizer.transform(X_test)"
   ]
  },
  {
   "cell_type": "markdown",
   "metadata": {},
   "source": [
    "<p  style=\"text-align: justify;\"> \n",
    "    **(j)**  Utilice los clasificadores que son extendidos por defecto a múltiples clases para detectar emociones en\n",
    "cada _tweet_, muestre sus desempeños a través del error de pruebas en un gráfico resumen.\n",
    "\n",
    "</p>"
   ]
  },
  {
   "cell_type": "code",
<<<<<<< HEAD
   "execution_count": 104,
=======
   "execution_count": null,
>>>>>>> 40b74ad864d550dfc896613dec6cfc47b99ea105
   "metadata": {
    "collapsed": true
   },
   "outputs": [],
   "source": [
    "ScoreTrain_M = {}\n",
    "ScoreTest_M = {}"
   ]
  },
  {
   "cell_type": "code",
   "execution_count": 105,
   "metadata": {},
   "outputs": [
    {
     "name": "stdout",
     "output_type": "stream",
     "text": [
      "DTC Train score 0.993643\n",
      "DTC Test score 0.282083\n"
     ]
    }
   ],
   "source": [
    "from sklearn.tree import DecisionTreeClassifier as DTC\n",
    "DTC_model = DTC()\n",
    "DTC_model.fit(X_CV_train, y_train)\n",
    "\n",
    "ScoreTrain_M[\"DTC Train\"] = DTC_model.score(X_CV_train, y_train)\n",
    "ScoreTest_M[\"DTC Test\"] = DTC_model.score(X_CV_test, y_test)\n",
    "\n",
    "print(\"DTC Train score %f\"%ScoreTrain_M[\"DTC Train\"])\n",
    "print(\"DTC Test score %f\"%ScoreTest_M[\"DTC Test\"])"
   ]
  },
  {
   "cell_type": "code",
   "execution_count": 106,
   "metadata": {},
   "outputs": [
    {
     "name": "stdout",
     "output_type": "stream",
     "text": [
      "KNC Train score 0.429893\n",
      "KNC Test score 0.255167\n"
     ]
    }
   ],
   "source": [
    "from sklearn.neighbors import KNeighborsClassifier as KNC\n",
    "KNC_model = KNC()\n",
    "KNC_model.fit(X_CV_train, y_train)\n",
    "\n",
    "ScoreTrain_M[\"KNC Train\"] = KNC_model.score(X_CV_train, y_train)\n",
    "ScoreTest_M[\"KNC Test\"] = KNC_model.score(X_CV_test, y_test)\n",
    "\n",
    "print(\"KNC Train score %f\"%ScoreTrain_M[\"KNC Train\"])\n",
    "print(\"KNC Test score %f\"%ScoreTest_M[\"KNC Test\"])"
   ]
  },
  {
   "cell_type": "code",
   "execution_count": 107,
   "metadata": {},
   "outputs": [
    {
     "name": "stdout",
     "output_type": "stream",
     "text": [
      "MLPC Train score 0.991786\n",
      "MLPC Test score 0.256417\n"
     ]
    }
   ],
   "source": [
    "from sklearn.neural_network import MLPClassifier as MLPC\n",
    "MLPC_model = MLPC()\n",
    "MLPC_model.fit(X_CV_train, y_train)\n",
    "\n",
    "ScoreTrain_M[\"MLPC Train\"] = MLPC_model.score(X_CV_train, y_train)\n",
    "ScoreTest_M[\"MLPC Test\"] = MLPC_model.score(X_CV_test, y_test)\n",
    "\n",
    "print(\"MLPC Train score %f\"%ScoreTrain_M[\"MLPC Train\"])\n",
    "print(\"MLPC Test score %f\"%ScoreTest_M[\"MLPC Test\"])"
   ]
  },
  {
   "cell_type": "code",
   "execution_count": 108,
   "metadata": {},
   "outputs": [
    {
     "name": "stdout",
     "output_type": "stream",
     "text": [
      "MNB Train score 0.602857\n",
      "MNB Test score 0.318083\n"
     ]
    }
   ],
   "source": [
    "from sklearn.naive_bayes import MultinomialNB as MNB\n",
    "MNB_model = MNB()\n",
    "MNB_model.fit(X_CV_train, y_train)\n",
    "\n",
    "ScoreTrain_M[\"MNB Train\"] = MNB_model.score(X_CV_train, y_train)\n",
    "ScoreTest_M[\"MNB Test\"] = MNB_model.score(X_CV_test, y_test)\n",
    "\n",
    "print(\"MNB Train score %f\"%ScoreTrain_M[\"MNB Train\"])\n",
    "print(\"MNB Test score %f\"%ScoreTest_M[\"MNB Test\"])"
   ]
  },
  {
   "cell_type": "markdown",
   "metadata": {},
   "source": [
    "<p  style=\"text-align: justify;\"> \n",
    "    **(k)**  Utilice clasificadores binarios que pueden ser extendidos a través de otras técnicas, tal como One vs\n",
    "One y One vs All/Rest [14]\n",
    "</p>\n",
    "\n",
    "- [14]  http://scikit-learn.org/stable/modules/classes.html#module-sklearn.multiclass"
   ]
  },
  {
   "cell_type": "code",
<<<<<<< HEAD
   "execution_count": 109,
   "metadata": {},
   "outputs": [
    {
     "name": "stdout",
     "output_type": "stream",
     "text": [
      "ORC Train score 0.665643\n",
      "ORC Test score 0.317917\n"
     ]
    }
   ],
   "source": [
    "from sklearn.svm import SVC\n",
    "from sklearn.multiclass import OneVsRestClassifier as ORC\n",
    "ORC_model = ORC(MNB(), -1)\n",
    "ORC_model.fit(X_CV_train, y_train)\n",
    "\n",
    "ScoreTrain_M[\"ORC Train\"] = ORC_model.score(X_CV_train, y_train)\n",
    "ScoreTest_M[\"ORC Test\"] = ORC_model.score(X_CV_test, y_test)\n",
    "\n",
    "print(\"ORC Train score %f\"%ScoreTrain_M[\"ORC Train\"])\n",
    "print(\"ORC Test score %f\"%ScoreTest_M[\"ORC Test\"])"
   ]
  },
  {
   "cell_type": "code",
   "execution_count": 110,
   "metadata": {},
   "outputs": [
    {
     "name": "stdout",
     "output_type": "stream",
     "text": [
      "OOC Train score 0.602857\n",
      "OOC Test score 0.318083\n"
     ]
    }
   ],
=======
   "execution_count": null,
   "metadata": {
    "collapsed": true
   },
   "outputs": [],
>>>>>>> 40b74ad864d550dfc896613dec6cfc47b99ea105
   "source": [
    "from sklearn.multiclass import OneVsOneClassifier as OOC\n",
    "OOC_model = OOC(MNB(), -1)\n",
    "OOC_model.fit(X_CV_train, y_train)\n",
    "\n",
    "ScoreTrain_M[\"OOC Train\"] = OOC_model.score(X_CV_train, y_train)\n",
    "ScoreTest_M[\"OOC Test\"] = OOC_model.score(X_CV_test, y_test)\n",
    "\n",
    "print(\"OOC Train score %f\"%ScoreTrain_M[\"OOC Train\"])\n",
    "print(\"OOC Test score %f\"%ScoreTest_M[\"OOC Test\"])"
   ]
  },
  {
   "cell_type": "markdown",
   "metadata": {},
   "source": [
    "<p  style=\"text-align: justify;\"> \n",
    "    **(l)**  Para el caso de la Regresión Logística compare sus dos métodos para ser extendidos a múltiples clases.\n",
    "Uno a través de One vs Rest y otro definiendo que la variable a predecir se distribuye Multinomial.\n",
    "\n",
    "</p>"
   ]
  },
  {
   "cell_type": "code",
<<<<<<< HEAD
   "execution_count": 111,
   "metadata": {},
   "outputs": [
    {
     "name": "stdout",
     "output_type": "stream",
     "text": [
      "LR Train score 0.776607\n",
      "LR Test score 0.342250\n"
     ]
    }
   ],
=======
   "execution_count": null,
   "metadata": {
    "collapsed": true
   },
   "outputs": [],
>>>>>>> 40b74ad864d550dfc896613dec6cfc47b99ea105
   "source": [
    "from sklearn.linear_model import LogisticRegression as LR\n",
    "LR_model = LR(multi_class='ovr')\n",
    "LR_model.fit(X_CV_train, y_train)\n",
    "\n",
    "ScoreTrain_M[\"LR OvR Train\"] = LR_model.score(X_CV_train, y_train)\n",
    "ScoreTest_M[\"LR OvR Test\"] = LR_model.score(X_CV_test, y_test)\n",
    "\n",
    "print(\"LR Train score %f\"%ScoreTrain_M[\"LR OvR Train\"])\n",
    "print(\"LR Test score %f\"%ScoreTest_M[\"LR OvR Test\"])"
   ]
  },
  {
   "cell_type": "code",
   "execution_count": 113,
   "metadata": {},
   "outputs": [
    {
     "name": "stdout",
     "output_type": "stream",
     "text": [
      "LR Train score 0.814786\n",
      "LR Test score 0.338750\n"
     ]
    }
   ],
   "source": [
    "LR_model = LR(multi_class='multinomial', solver=\"newton-cg\")\n",
    "#Currently the ‘multinomial’ option is supported only by the ‘lbfgs’ and ‘newton-cg’ solvers.\n",
    "LR_model.fit(X_CV_train, y_train)\n",
    "\n",
    "ScoreTrain_M[\"LR Multi Train\"] = LR_model.score(X_CV_train, y_train)\n",
    "ScoreTest_M[\"LR Multi Test\"] = LR_model.score(X_CV_test, y_test)\n",
    "\n",
    "print(\"LR Train score %f\"%ScoreTrain_M[\"LR Multi Train\"])\n",
    "print(\"LR Test score %f\"%ScoreTest_M[\"LR Multi Test\"])"
   ]
  },
  {
   "cell_type": "markdown",
   "metadata": {},
   "source": [
    "<p  style=\"text-align: justify;\"> \n",
    "    **(m)**  Compare los resultados entre los clasificadores extendidos por defecto y los binarios que son extendidos mediante otras técnicas, construya una tabla o gráfico resumen. Los clasificadores que mejor se comportan en el caso binario ¿Siguen teniendo ese desempeño en múltiples clases?\n",
    "\n",
    "\n",
    "</p>"
   ]
  },
  {
   "cell_type": "code",
<<<<<<< HEAD
   "execution_count": 115,
   "metadata": {},
   "outputs": [
    {
     "data": {
      "image/png": "iVBORw0KGgoAAAANSUhEUgAAAkgAAAHHCAYAAABEEKc/AAAABHNCSVQICAgIfAhkiAAAAAlwSFlz\nAAAPYQAAD2EBqD+naQAAIABJREFUeJzs3Xt8z/X///H7285vOznPYQwzp+SQmkOIMJJDEbLkkEOp\nj3Vw2kcMYfhUlPSpLnKoMKdRkglZDpGPQskcIkxNctowtrHX74++e/96vzZsM3tvc7teLu/LZ3u+\nnq/n+/F60ud993w93++3xTAMQwAAALAp5ugCAAAAChoCEgAAgAkBCQAAwISABAAAYEJAAgAAMCEg\nAQAAmBCQAAAATAhIAAAAJgQkAAAAEwISgNs6ePCgLBaLoqKiHF1KjsXExMhisWjnzp2OLgVAIUJA\nAgohi8WSrUdsbKyjSy3wrl27lu35zOuQdezYMU2YMEEHDx7M9jm7d+9Wly5d5O/vL3d3d/n7+6tj\nx476+OOP87Q24F7n7OgCAOTcp59+avf7J598og0bNmRqr127dp48X82aNXX16lW5urrmyXgFiaur\na6Z5+/jjj7V9+3bNmzfPrj0wMDBPn/vYsWOaOHGiGjRooFq1at22//r169WpUyfVrFlTw4YNU5ky\nZXT8+HF99913mjNnjp577rk8rQ+4lxGQgELomWeesft9586d2rBhQ6b2m7l69arc3d1lsViy1d9i\nscjd3T3HdRYGxYoVyzRvsbGx2rFjR7bnM79MmjRJlSpV0q5du1S8eHG7Y2fOnMnXWpKTk2W1WvP1\nOYH8xC02oIjL2IMTHR2t0aNHq0KFCipevLhSUlL0119/6ZVXXlHdunVVvHhx+fj46PHHH9cvv/xi\nN0ZWe5B69+6t0qVL6+TJk3r88cfl6empsmXL6t///rfS09NvW9fKlSvVsWNHlS9fXm5ubqpRo4am\nTZuW6dwmTZqocePG+umnn9SyZUt5eHioUqVKmjVrVqYxjx8/rs6dO6t48eIqV66cRo4cqbS0tFzO\n3M1duXJFY8aMUdWqVeXm5qaAgABFRETo+vXrdv0+//xzBQcHy9vbW15eXqpTp46mTp0qSVq9erXa\ntWsnSXriiSdst/FWr1590+c9evSoGjZsmCkcSVLZsmUztX300Udq1KiRPDw8VKpUKT366KPaunWr\n7bhhGHrzzTdVs2ZNubm5yd/fX6+99pquXLliN06DBg308MMPa+vWrWratKk8PDw0Y8YM2/Ho6Gg1\nadJEVqtVvr6+evLJJ3X06NFszCRQcLGCBNwjxo0bJ6vVqlGjRunKlStycnLSoUOH9NVXX6lHjx6q\nUqWKEhIS9MEHH6hVq1Y6cOBAli+6/5Samqp27dqpVatW+s9//qOYmBhFRkaqRo0aGjBgwC3P/fjj\nj+Xr66sRI0bIarVqw4YNCg8P15UrV/TGG2/Y9f3rr7/UsWNH9e7dW08//bSioqL0yiuvqH79+mrd\nurUk6dKlS2rTpo3+/PNPhYWFqUyZMlq4cKG+/vrrO5s4k7S0NLVv31779+/X0KFDFRgYqN27d2vy\n5Mk6ceKEFixYIEn6/vvv1b17dzVp0kRTp06Vs7OzDh06pO3bt0uSGjdurDFjxmjatGl6+eWX9cAD\nD9jab6ZKlSratm2bfv3119ve7nvllVc0a9YstWnTxhbKduzYoa1bt6pFixa2Pu+8844ef/xxDR8+\nXPv27dPMmTO1d+9ebdy40W6F8dSpU+rWrZsGDBigAQMGqHLlypKkOXPm6KWXXlK3bt3Ut29fJSUl\nafbs2WrevLn27duncuXK5W6iAUczABR6L774onGz/5zXrVtnSDJq1aplXLt2ze7Y1atXjfT0dLu2\nQ4cOGS4uLsaMGTNsbXFxcYYkY8mSJba2Xr16GZLs+qWnpxt16tQxmjdvftuak5OTM7X169fP8Pb2\nNtLS0mxtwcHBhiRj2bJldueWKlXKCA0NtbVNmzbNkGR88cUXtrZLly4ZVapUMSQZO3bsuG1NGZ57\n7jnDzc0ty2OzZ882XFxcjD179ti1Zzz//v37DcMwjIiICMPZ2TnL68ywYcMGQ5KxatWqbNW1YsUK\nw2KxGC4uLkaLFi2M8PBw45tvvjGuX79u1++HH34wJBn9+vXL9Oeb8fuxY8cMi8Vi9OjRw+745MmT\nDUlGdHS0ra1+/fqGJCMqKsqu719//WW4u7sbI0eOtGs/duyY4eHhkakdKEy4xQbcIwYMGCA3Nze7\ntn/uQ7p+/brOnTunkiVLqmrVqvrxxx+zNe7QoUNtP1ssFj388MM6duzYbc/z8PCw/Xzp0iWdPXtW\nLVq0UFJSUqbbMyVLltRTTz1ld+4DDzxg9zxfffWVAgIC1LlzZ1ubp6dnnm9cXr58uR588EFVqlRJ\nZ8+etT0effRRSbK9c9DX11fXr1/X2rVrZRhGnjx39+7dFRsbq/bt2+t///ufIiMj1aZNG1WpUkUb\nN2609YuOjpYkTZgwIdM+s4zfY2JiZBiGXn31Vbvjw4cPl4uLi9auXWvXXqpUKbs/A0las2aNrl27\npt69e9vNhZeXl+rXr6/NmzfnyXUDjsAtNuAeUbVq1UxtN27c0FtvvaUPPvhAJ06csNv/U7169duO\n6evrK29vb7u2EiVK6MKFC7c9d9++fRo3bpxiY2N16dIlu2OJiYl2v2fczjE/z8mTJ22/nzhxQkFB\nQZn61axZ87a15MSRI0eUkJCgMmXKZHk8Y7P0gAED9Mknn+ipp56Sn5+f2rZtqx49eqhLly7Z3hyf\nlZYtW6ply5a6du2a9uzZoxUrVmj27Nnq2rWrDhw4oCpVqujo0aMqXry4AgICbjrOiRMnJGWeHy8v\nL1WsWNF2PEOVKlVUrJj9v6mPHDkiSbbbg2ZZ/bkBhQUBCbhH/HPFJkNERISmTJmiIUOGqE2bNipR\nooSKFSumYcOGZWujtZOTU5btt1sxOXv2rFq1aqUyZcpoypQpqlq1qtzd3bVz506NGzcu03Pn9nnu\nhvT0dDVt2lSTJk3K8nhGEPXx8dGuXbu0ceNGffXVV1q3bp0+++wzde3a9ZYbsbPL3d1dTZs2VdOm\nTeXv769XXnlFq1evVlhY2B2PnZWs/v5k/DmtWrVKnp6eWdYIFFYEJOAetmLFCnXs2FEffvihXfv5\n8+dVrVq1u/a8GzduVGJior7++ms99NBDtva4uLhcj1mlShXbisY/HTp0KNdjZqV69eq6ePGi2rZt\ne9u+zs7O6tChgzp06CDDMDRmzBjNmDFDu3fvVuPGje9oJemfMjZ2JyQk2Gq8cuWKjh8/ftNVpCpV\nqkj6e36aNm1qa798+bJ+//132y3DW8lYZaxQoYLdnyNQFLAHCbiHOTk5ZVqF+fTTT3Xu3Lm7/ryS\n/QpQSkqKPvjgg1yP+dhjj+n48eNas2aNre3y5ct5/gnTPXv21IEDB7Rs2bJMxy5fvqxr165JUqY5\ntFgsql+/vqS/r1WS7e36Fy9ezNZzf/PNN1m2f/XVV5L+/+2y7t27S/p7D5L5zzfj9w4dOshiseid\nd96xOz579mylpaWpU6dOt62nS5cucnd31xtvvKEbN25kOn727NnbjgEUVKwgAfewxx9/XDNmzNDg\nwYP14IMPat++fVq6dKltdeFuadmypby9vdWnTx/961//0o0bN7Rw4UK5uLjkesxhw4bpv//9r3r3\n7q2wsDCVLVtWCxYskI+PTx5WLr3wwgtauXKlnn76aa1du1bBwcFKSUmxhaYffvhBgYGBGjFihA4e\nPKj27durcuXK+v333/Xee++pRo0atj07devWlbu7u2bNmiXDMOTh4aEWLVqoYsWKWT73s88+K09P\nT3Xp0kU1a9ZUcnKytmzZopUrV6pOnTrq3bu3JKlhw4b617/+pdmzZys+Pl6dO3dWsWLFtGPHDtWr\nV0///ve/VbVqVQ0fPlzvvPOOrl69qpCQEP3000/66KOP1Lp1a3Xt2vW2c1GuXDm9/fbbGjZsmIKD\ng9WjRw+VKFHCFlS7deumyZMn593kA/nJUW+fA5B3svM2/zVr1mQ6lpycbAwfPtzw8/MzrFar0bJl\nS2P37t1GcHCwERISYut3s7f5lypVKtOYo0ePvulb5P/p22+/NR588EHDw8PDqFixojF27FhjzZo1\nmd6SHxwcbDzwwAOZzu/Vq5dRs2ZNu7Zjx44Zjz32mOHh4WGULVvWGDFihPHFF1/k6dv8DePvj0eY\nOHGiUbNmTcPV1dUoVaqUERwcbEydOtX2tv61a9canTp1Mvz8/AxXV1ejUqVKRr9+/YwTJ07YjbV4\n8WIjKCjIcHJyuu1b/letWmX07dvXqFGjhlG8eHHDzc3NqFmzpjFixAjj/Pnzdn3T09ONOXPmGPfd\nd5+txrZt2xrbtm2z9blx44YxY8YMo0aNGoaLi4tRoUIF45VXXjEuX75sN1b9+vVv+dEN69atM1q3\nbm14eXkZHh4eRo0aNYzBgwcbP//8803PAQo6i2E4YJcjAABAAcYeJAAAABMCEgAAgAkBCQAAwISA\nBAAAYEJAAgAAMCEgAQAAmPBBkdmUnp6uP/74Q15eXnn29QAAAODuMgxDly5dUoUKFTJ94fKtEJCy\n6Y8//pC/v7+jywAAALkQHx+vSpUqZbs/ASmbvLy8JP09wd7e3g6uBgAAZEdSUpL8/f1tr+PZRUDK\npozbat7e3gQkAAAKmZxuj2GTNgAAgAkBCQAAwISABAAAYEJAAgAAMCEgAQAAmBCQAAAATAhIAAAA\nJgQkAAAAEwISAACACQEJAADAhIAEAABgQkACAAAwISABAACYEJAAAABMnB1dQGGTHH1JzlaLo8sA\nAKBIsfb0cnQJdlhBAgAAMCEgAQAAmBCQAAAATAhIAAAAJgQkAAAAEwISAACACQEJAADAhIAEAABg\nQkACAAAwISABAACYEJAAAABMCEgAAAAmBCQAAAATAhIAAIBJgQ1I/fv3l8VikcVikYuLi8qVK6d2\n7dpp3rx5Sk9PV2xsrO34zR6xsbGSpNTUVM2YMUP169eX1WpV6dKl1bx5c82fP19paWmOvVAAAFDg\nODu6gFvp0KGD5s+frxs3bujPP/9UTEyMwsLCtGLFCq1evVoJCQm2vmFhYUpKStL8+fNtbSVLllRq\naqpCQkK0b98+vfHGG2revLm8vb21c+dOvfnmm2rYsKEaNGjgiMsDAAAFVIEOSG5ubvLz85MkVaxY\nUY0aNVKTJk306KOP6pNPPtGgQYNsfT08PJSSkmLrn2HGjBnasmWLdu/erYYNG9raq1Wrpqeeekqp\nqan5czEAAKDQKLC32G6mTZs2ql+/vqKjo7PVf9GiRWrbtq1dOMrg4uKi4sWLZ3leSkqKkpKS7B4A\nAODeUKBXkG6mVq1a+umnn7LV98iRI3rkkUdy/ByRkZGaOHFipvaYDpLVO8fDoYjrafVydAkAgDxU\n6FaQJMkwDFkslmz3zY3w8HAlJibaHvHx8bkaBwAAFD6FcgUpLi5OVatWzVbfoKAgHTx4MMfP4ebm\nJjc3txyfBwAACr9Ct4L0zTff6Oeff1b37t2z1b9Pnz7auHGj9uzZk+lYWlqarly5ktclAgCAQq5A\nB6SUlBSdPn1av//+u3788UdNnTpVXbt21eOPP65nn302W2O8/PLLat68uR599FHNmTNH+/bt07Fj\nx7Rs2TI1adJER44cuctXAQAACpsCfYstJiZG5cuXl7Ozs0qUKKH69evr3XffVb9+/VSsWPaynZub\nmzZs2KCZM2fqww8/1IgRI2S1WlWzZk0NHDhQ9913312+CgAAUNhYjNzuYr7HJCUlycfHR/MTTsnq\nzdvYYI93sQFAwZTx+p2YmCjvHLx+F+hbbAAAAI5AQAIAADAhIAEAAJgQkAAAAEwISAAAACYEJAAA\nABMCEgAAgAkBCQAAwISABAAAYEJAAgAAMCEgAQAAmBCQAAAATJwdXUBh86TVS958MSkAAEUaK0gA\nAAAmBCQAAAATAhIAAIAJe5ByKDn6kpytFkeXARQK1p7s1wNQOLGCBAAAYEJAAgAAMCEgAQAAmBCQ\nAAAATAhIAAAAJgQkAAAAEwISAACACQEJAADAhIAEAABgQkACAAAwISABAACYEJAAAABMCEgAAAAm\nBCQAAACTAhuQ+vfvr27dutm1rVixQu7u7nrrrbfUv39/WSwWTZs2za7P6tWrZbFY7NoMw9BHH32k\n4OBgeXp6ytfXV40bN9asWbOUnJx8168FAAAULgU2IJnNnTtXoaGh+u9//6vXXntNkuTu7q7p06fr\nwoULtzy3b9++evnll9W1a1dt3rxZe/fu1bhx4/T555/r66+/zo/yAQBAIeLs6AKyY8aMGYqIiFBU\nVJSeeOIJW3vbtm3166+/KjIyUjNmzMjy3GXLlmnRokVavXq1unbtamsPCAhQly5dlJSUdNfrBwAA\nhUuBX0EaPXq03njjDX355Zd24UiSnJycNHXqVM2ePVunTp3K8vxFixapZs2aduEog8VikY+Pz12p\nGwAAFF4FOiCtW7dOM2bM0Oeff65HH300yz5PPPGEGjRooIiIiCyPHzlyRDVr1szxc6ekpCgpKcnu\nAQAA7g0F+hbb/fffr7NnzyoiIkIPPfSQPD09s+w3ffp0tWnTRiNGjMh0zDCMXD13ZGSkJk6cmKk9\npoNk9c7VkCgkelq9HF0CAMDBCvQKUsWKFRUbG6vff/9dHTp00KVLl7Ls17JlS4WEhCg8PDzTsaCg\nIB08eDDHzx0eHq7ExETbIz4+PsdjAACAwqlAByRJqlKlir799ludPn36liFp2rRpWrNmjXbs2GHX\n3qdPHx0+fFiff/55pnMMw1BiYmKW47m5ucnb29vuAQAA7g0FPiBJkr+/v2JjY3XmzBmFhIRkuR+o\nXr16Cg0N1bvvvmvX3rNnT/Xq1UtPP/20pk6dqt27d+vEiRP68ssv1bZtW23evDm/LgMAABQShSIg\nSVKlSpUUGxurs2fP3jQkTZo0Senp6XZtFotFixcv1ttvv63Vq1erVatWuv/++zVhwgQ9+uijat++\nfX5dAgAAKCQsRm53Md9jkpKS5OPjo/kJp2TldluRxiZtACg6Ml6/ExMTc7RdptCsIAEAAOQXAhIA\nAIAJAQkAAMCEgAQAAGBCQAIAADAhIAEAAJgQkAAAAEwISAAAACYEJAAAABMCEgAAgAkBCQAAwISA\nBAAAYEJAAgAAMHF2dAGFzZNWL3nzbe8AABRprCABAACYEJAAAABMCEgAAAAm7EHKoeToS3K2Whxd\nBgAARYa1Z8Hb28sKEgAAgAkBCQAAwISABAAAYEJAAgAAMCEgAQAAmBCQAAAATAhIAAAAJgQkAAAA\nEwISAACACQEJAADAhIAEAABgQkACAAAwISABAACYEJAAAABMHBKQ+vfvL4vFoueffz7TsRdffFEW\ni0X9+/e39e3WrdtNxwoICJDFYpHFYlHx4sXVqFEjLV++3K5PUlKSxo4dq1q1asnd3V1+fn5q27at\noqOjZRhGnl4bAAAo/By2guTv76+oqChdvXrV1nbt2jUtXrxYlStXztFYkyZNUkJCgvbs2aMHH3xQ\nvXr10nfffSdJunjxopo1a6ZPPvlE4eHh+vHHH7Vlyxb16tVLo0aNUmJiYp5eFwAAKPwcFpAaNWok\nf39/RUdH29qio6NVuXJlNWzYMEdjeXl5yc/PT0FBQZozZ448PDy0Zs0aSdK///1vHT9+XN9//736\n9eunOnXqKCgoSIMHD9bevXvl6emZp9cFAAAKP4fuQRo4cKDmz59v+33evHkaMGDAHY3p7OwsFxcX\npaamKj09XVFRUQoNDVWFChUy9fX09JSzs3OW46SkpCgpKcnuAQAA7g1Zp4N88swzzyg8PFwnTpyQ\nJG3fvl1RUVGKjY3N1Xipqal66623lJiYqDZt2ujs2bO6cOGCatWqleOxIiMjNXHixEztMR0kq3eu\nykMh0dPq5egSAAAO5tAVpDJlyqhTp05asGCB5s+fr06dOql06dI5Hmf06NHy9PSU1WrV9OnTNW3a\nNHXq1OmONmCHh4crMTHR9oiPj8/1WAAAoHBx6AqS9PdttpdeekmSNGfOnFyNMXLkSPXv31+enp4q\nV66cLBaLpL8DmK+vrw4ePJjjMd3c3OTm5paregAAQOHm8M9B6tChg1JTU5WWlqaQkJBcjVG6dGkF\nBgbKz8/PFo4kqVixYurdu7cWLVqkP/74I9N5ly9f1vXr13NdOwAAKJocvoLk5OSkuLg4289ZSUxM\n1N69e+3aSpUqJX9//9uOP2XKFMXGxio4OFhTpkxR48aN5eLioq1btyoyMlL/+9//5Ovre+cXAgAA\nigyHByRJ8va+9a7n2NjYTG/9f+655zR37tzbjl2yZEnt3LlT06ZN0+TJk3XixAmVKFFCderU0YQJ\nE+Tj43NHtQMAgKLHYvBR0tmSlJQkHx8fzU84JettAh0KN97FBgBFR8brd2Ji4m0XZP7J4XuQAAAA\nChoCEgAAgAkBCQAAwISABAAAYEJAAgAAMCEgAQAAmBCQAAAATAhIAAAAJgQkAAAAEwISAACACQEJ\nAADAhIAEAABg4uzoAgqbJ61e8ubLTAEAKNJYQQIAADAhIAEAAJgQkAAAAEwISAAAACZs0s6h5OhL\ncrZaHF0GgHuItSdvDAHyGytIAAAAJgQkAAAAEwISAACACQEJAADAhIAEAABgQkACAAAwISABAACY\nEJAAAABM+KBIAAAc5MaNG0pLS3N0GYWei4uLnJyc8nRMAhIAAPnMMAydPn1aFy9edHQpRYavr6/8\n/PxkseTNt10QkAAAyGcZ4ahs2bKyWq159qJ+LzIMQ8nJyTpz5owkqXz58nkyLgEJAIB8dOPGDVs4\nKlWqlKPLKRI8PDwkSWfOnFHZsmXz5HYbm7QBAMhHGXuOrFargyspWjLmM6/2dBWogNS/f39ZLBY9\n//zzmY69+OKLslgs6t+/v13fadOm2fVbvXq13VJlbGysLBaL7eHh4aG6devqo48+uqvXAgDArXBb\nLW/l9XwWqIAkSf7+/oqKitLVq1dtbdeuXdPixYtVuXJlu77u7u6aPn26Lly4cNtxDx06pISEBB04\ncEBDhw7VCy+8oE2bNuV5/QAAoPArcAGpUaNG8vf3V3R0tK0tOjpalStXVsOGDe36tm3bVn5+foqM\njLztuGXLlpWfn5+qVq2q4cOHq2rVqvrxxx/zvH4AAJBzfn5++uCDDxxdhk2B3KQ9cOBAzZ8/X6Gh\noZKkefPmacCAAYqNjbXr5+TkpKlTp6pPnz4aPny4KlWqdNuxDcPQ+vXrdfLkSQUHB9+N8gEAyJXk\nZZfy7bmsPb1y1P92t7AiIiI0YcKEXNfz888/y9PTM9fn57UCGZCeeeYZhYeH68SJE5Kk7du3Kyoq\nKlNAkqQnnnhCDRo0UEREhD7++OObjpkRnlJSUpSenq5JkyapZcuWN+2fkpKilJQU2+9JSUm5vBoA\nAAq/hIQE289Lly7V+PHjdejQIVtbVuHGMAzduHFDzs63jxtlypTJm0LzSIEMSGXKlFGnTp20YMEC\nGYahTp06qXTp0jftP336dLVp00YjRoy4aZ+tW7fKy8tLKSkp2rVrl/71r3+pZMmSeuGFF7LsHxkZ\nqYkTJ2Zqj+kgWb1zfk3A7fS05uxfcwCQn/z8/Gw/+/j4yGKx2LVJUkxMjDp27Kj169dr1KhR+uWX\nX7R161b5+vpqxIgR2rVrl65evaq6detq2rRpeuSRR+zGnzBhgp5//nldu3ZNHh4eWrBggZYvX65v\nvvlG/v7+mjVrljp27Jgv11vg9iBlGDhwoBYsWKCFCxdq4MCBt+zbsmVLhYSEKDw8/KZ9qlatqsDA\nQNWtW1cDBgxQ3759NWXKlJv2Dw8PV2Jiou0RHx+f62sBAOBeEh4erpkzZyouLk61atXS5cuX1a1b\nN23evFk//PCDWrZsqccff9xuVSorERER6tevn3766Se1bt1affr0ybc7OgVyBUmSOnTooNTUVFks\nFoWEhNy2/7Rp09SgQQPVrFkzW+MXK1bM7p1yZm5ubnJzc8t2vQAA4G9Tp05V69atbb83btxYjRs3\ntv0+Y8YMRUdHa+3atRo0aNBNxxk8eLCeeuop25gffvihfvzxR7uVp7ulwAYkJycnxcXF2X6+nXr1\n6ik0NFTvvvtulsfPnDmja9eu2W6xffrpp+rRo0ee1gwAAGQXhiQpMTFRERERiomJ0enTp3X9+nVd\nvXpVJ0+evOU4999/v+3nkiVLytXV1faVIndbgQ1IkuTtnbPNPpMmTdLSpUuzPJaxsuTs7Cx/f38N\nHTr0jnbbAwCArBUvXtzu97CwMO3YsUPTp09X9erV5eHhoc6dOys1NfWW47i4uNj9brFYlJ6enuf1\nZqVABaQFCxbc8vjq1atv2TcgIMDunWeS9Mgjj8gwjLwoDwAA5ML27ds1ZMgQdevWTZJ08eLFAr+3\nt8Bu0gYAAEVDjRo1tHz5cv3000/as2eP+vTpo2LFCnYEKVArSAAA3Mty+uGNhcW7776r5557Tk2a\nNFHZsmU1duxYnT9/3tFl3ZLF4P5TtiQlJcnHx0fzE07JmsO9UUB28DlIwL3h2rVr+u2331S1alW5\nu7s7upwi42bzmvH6nZiYmKO9zQV7fQsAAMABCEgAAAAmBCQAAAATAhIAAIAJAQkAAMCEgAQAAGBC\nQAIAADAhIAEAAJgQkAAAAEwISAAAACZ8F1sOPWn1kjdfCQEAuAuWJV/Kt+fK6dcbWSyWWx6PiIjQ\nhAkT7qAiqXfv3pKkqKioOxonLxCQAADAbSUkJNh+Xrp0qcaPH69Dhw7Z2jw9PR1R1l3DLTYAAHBb\nfn5+toePj48sFotdW0ZA2rdvn9q3b6/ixYurfPnyGjhwoC5cuGAbZ8mSJapbt67c3d1VunRptW/f\nXikpKRozZoyWLl2qpUuXymKxyGKxaOfOnY66XAISAADIG2fPnlXr1q3VrFkz/fjjj/ryyy917Ngx\nhYaGSpJOnDihvn376sUXX9ShQ4f0zTffqHPnzpKk119/XV27dlXXrl2VkJCghIQEPfDAAw67Fm6x\n5VBy9CXZKbiXAAAfm0lEQVQ5W299HxYAigJrT/ZbImdmzZqlFi1a2O1Fmjt3rmrUqKGTJ0/q999/\nV3p6up588kn5+flJku6//35Jkpubm9zd3SXJdsyRCEgAACBP7Nu3T+vXr89yP9LRo0f18MMP6+GH\nH1atWrUUEhKi9u3bq0ePHvLx8XFAtbfGLTYAAJAnLl++rB49emjv3r12jyNHjig4OFguLi6KjY3V\nmjVrFBQUpJkzZ6pWrVo6deqUo0vPhIAEAADyRKNGjbR//35Vq1ZNgYGBdg+r1SpJKlasmFq0aKE3\n3nhDe/bs0Y0bN/TFF19IklxdXXXjxg1HXoINAQkAAOSJsLAwnTp1Sn379tXu3bt19OhRrVu3TgMH\nDpQkbd26VdOnT9cPP/ygEydOaMWKFbpw4YJq164tSQoICLCtOJ09e1bXr1932LWwBwkAgAIipx/e\nWNBUrlxZ27dv15gxY9S2bVulpqYqICBAnTp1kiT5+vpq06ZNevPNN3X58mUFBARozpw5at26tSTp\nhRde0Pbt29WwYUNduXJFO3bsUJMmTRxyLRbDMAyHPHMhk5SUJB8fHyXMPyVvq7ejywGAu453sd0d\n165d02+//aaqVava3rWFO3ezec14/U5MTJS3d/Zfv7nFBgAAYEJAAgAAMCEgAQAAmBCQAAAATAhI\nAAA4AO+Rylt5PZ8EJAAA8pGLi4skKTk52cGVFC0Z85kxv3eKz0ECACAfOTk5ydfXV2fOnJEkWa1W\nWSx8CXpuGYah5ORknTlzRr6+vnJycsqTcQlIAADks4xvq88ISbhzvr6+tnnNCwU2IMXHxysiIkIx\nMTE6e/asypcvr27dumn8+PEqVaqUJOmRRx7Rt99+K0lyc3NT5cqVNWDAAI0ZMyZTGl+5cqVmz55t\n+96XatWqqUePHnrppZdUsmTJfL8+AMC9y2KxqHz58ipbtqzS0tIcXU6h5+LikmcrRxkKZEA6duyY\nmjZtqqCgIC1ZskRVq1bVL7/8opEjR2rdunXauXOnLdQMHjxYkyZNUkpKir755hsNGTJEvr6+euGF\nF2zjjR07VtOnT9crr7yiqVOnqkKFCjpy5Ig++OADffrppwoLC3PUpQIA7mFOTk55/sKOvFEgv2qk\nY8eO2r9/vw4fPiwPDw9b++nTp1W9enU9++yz+u9//6tHHnlEDRo00KxZs2x9GjdurMqVKys6OlqS\ntGvXLgUHB2vWrFlZBqGLFy/K19f3tjXxVSMA7jV81QiKgiLzVSPnz5/X+vXrNWzYMLtwJP19zzY0\nNFRLly7N9HY+wzC0detWxcXFydXV1da+aNEieXp6atiwYVk+383CUUpKipKSkuweAADg3lDgbrEd\nOXJEhmGodu3aWR6vXbu2Lly4oL/++kuS9P7772vu3LlKTU1VWlqa3N3dNXz4cLvxqlWrluO3/UVG\nRmrixImZ2mM6SCwg4W4o7N/iDQBFSYFbQcqQ3Tt/oaGh2rt3r7Zv366OHTtq7NixatasWY7HMQsP\nD1diYqLtER8fn6txAABA4VPgVpACAwNlsVgUFxenJ554ItPxuLg4lShRQmXKlJEk+fj4KDAwUJK0\nbNkyBQYGqkmTJmrbtq0kKSgoSNu2bVNaWlqOVpHc3Nzk5uaWB1cEAAAKmwK3glSqVCm1a9dO77//\nvq5evWp37PTp01q0aJF69eqV5YdqeXp6KiwsTCNGjLCtHPXp00eXL1/W+++/n+XzXbx4Me8vAgAA\nFGoFLiBJ0nvvvaeUlBSFhIRoy5Ytio+PV0xMjNq1a6eKFStqypQpNz136NChOnz4sFauXClJCg4O\n1qhRo/Taa69p1KhR2rFjh06cOKFNmzbpqaee0sKFC/PrsgAAQCFRIANSjRo1tHv3blWrVk09e/ZU\n9erVNWTIELVu3Vo7duy45Qc7lixZUs8++6wmTJig9PR0SdL06dO1ePFiff/99woJCVHdunX1yiuv\nqHr16nrmmWfy67IAAEAhUSA/B6kgyvgchfkJp2TNwecoANnFu9gAIO8Vmc9BAgAAcDQCEgAAgAkB\nCQAAwISABAAAYEJAAgAAMCEgAQAAmBCQAAAATAhIAAAAJgQkAAAAEwISAACACQEJAADAhIAEAABg\n4uzoAgqbJ61e8uZLRQEAKNJYQQIAADAhIAEAAJgQkAAAAEwISAAAACZs0s6h5OhLcrZaHF0GgHuI\ntSdvDAHyGytIAAAAJgQkAAAAEwISAACACQEJAADAhIAEAABgQkACAAAwISABAACYEJAAAABMCEgA\nAAAmBCQAAAATAhIAAIAJAQkAAMCEgAQAAGBSIANSfHy8Bg4cqAoVKsjV1VVVqlRRWFiYzp07Z9fv\nl19+Uc+ePVWmTBm5ubkpKChI48ePV3JycqYx9+zZo6eeekrlypWTu7u7atSoocGDB+vw4cP5dVkA\nAKCQKHAB6dixY2rcuLGOHDmiJUuW6Ndff9UHH3ygTZs2qWnTpjp//rwkaefOnQoODlZqaqrWrl2r\nw4cPa8qUKVqwYIHatWun1NRU25hffvmlmjRpopSUFC1atEhxcXH67LPP5OPjo3HjxjnqUgEAQAFl\nMQzDcHQR/9SxY0ft379fhw8floeHh6399OnTql69up599lm9//77uu+++2S1WvX999+rWLH/n/P2\n7dunhg0bKjIyUqNHj1ZycrKqVKmihx9+WKtWrcr0fBcvXpSvr+9t60pKSpKPj48S5p+St9U7by4W\nALLB2tPL0SUAhVbG63diYqK8vbP/+l2gVpDOnz+v9evXa9iwYXbhSJL8/PwUGhqqpUuXau/evTpw\n4IBeffVVu3AkSfXr11fbtm21ZMkSSdL69et19uxZjRo1KsvnzE44AgAA9xZnRxfwT0eOHJFhGKpd\nu3aWx2vXrq0LFy7Y9g3dqt+2bdtsY0pSrVq1clRLSkqKUlJSbL8nJSXl6HwAAFB4FaiAlCG7d/2y\n0y+3dxAjIyM1ceLETO0xHSTusOFu6GnlNgoAFBQF6hZbYGCgLBaL4uLisjweFxenEiVKKCgoyPb7\nzfpl9Mn434MHD+aolvDwcCUmJtoe8fHxOTofAAAUXgUqIJUqVUrt2rXT+++/r6tXr9odO336tBYt\nWqRevXqpQYMGqlWrlmbOnKn09HS7fvv27dPGjRv19NNPS5Lat2+v0qVLa8aMGVk+58WLF7Nsd3Nz\nk7e3t90DAADcGwpUQJKk9957TykpKQoJCdGWLVsUHx+vmJgYtWvXThUrVtSUKVNksVj08ccf68CB\nA+revbt27dqlkydPavny5ercubOaNm2ql19+WZJUvHhxzZ07V2vXrlWXLl20ceNGHT9+XLt379ao\nUaP0/PPPO/iKAQBAQVPgAlKNGjW0e/duVatWTT179lT16tU1ZMgQtW7dWjt27FDJkiUlSc2aNdPO\nnTvl5OSkjh07KjAwUOHh4erXr582bNggNzc325hdu3bVd999JxcXF/Xp00e1atXS008/rdOnT2v8\n+PGOulQAAFBAFbjPQSqoMj5HYX7CKVm53Ya7gE3aAJD3isTnIAEAABQEBCQAAAATAhIAAIAJAQkA\nAMCEgAQAAGBCQAIAADAhIAEAAJgQkAAAAEwISAAAACYEJAAAABMCEgAAgAkBCQAAwISABAAAYOLs\n6AIKmyetXvLmW9cBACjSWEECAAAwISABAACYEJAAAABM2IOUQ8nRl+RstTi6DABALlh7socU2cMK\nEgAAgAkBCQAAwISABAAAYEJAAgAAMCEgAQAAmBCQAAAATAhIAAAAJgQkAAAAEwISAACACQEJAADA\nhIAEAABgQkACAAAwISABAACYEJAAAABM7jgg9e/fX926dbvp8YCAAFksFlksFlmtVtWrV09z587N\n1tjfffedHnvsMZUoUULu7u6qV6+e3n77bd24cSNHNT7yyCO2Gtzd3RUUFKTIyEgZhpGjcQAAwL0h\nX1aQJk2apISEBO3fv1/PPPOMBg8erHXr1t3ynFWrVqlVq1aqVKmSNm/erIMHDyosLEyTJ09W7969\ncxxuBg8erISEBB06dEjh4eEaP368Pvjggzu5LAAAUETlS0Dy8vKSn5+fqlWrptGjR6tUqVLasGHD\nTftfuXJFgwcPVpcuXfTRRx+pQYMGCggI0KBBg7Rw4UKtWLFCy5YtkyQ1a9ZMo0ePtjv/r7/+kouL\ni7Zs2WJrs1qt8vPzU5UqVTRgwADVr1//ljUAAIB7V77uQUpPT9fKlSt1/vx5ubq63rTf119/rXPn\nzmnEiBGZjnXu3FlBQUFasmSJJCk0NFRRUVF2K0pLly5VhQoV1KJFi0znG4ahrVu3Ki4u7pY1pKSk\nKCkpye4BAADuDc758SSjR4/W66+/rpSUFF2/fl0lS5bUoEGDbtr/8OHDkqTatWtnebxWrVq2Pj17\n9tTLL7+sbdu22QLR4sWL9fTTT8tisdjOef/99zV37lylpqYqLS1N7u7uGj58+E1riIyM1MSJEzO1\nx3SQrN63v2bgbupp9XJ0CQBQpOXLCtLIkSO1d+9effPNNwoODtbMmTMVGBh42/Oys8+oTJkyat++\nvRYtWiRJ+u2337Rjxw6Fhoba9QsNDdXevXu1fft2dezYUWPHjlWzZs1uOm54eLgSExNtj/j4+NvW\nAgAAioZ8CUilS5dWYGCgWrRooeXLl2v48OE6cODATfsHBQVJkuLi4rI8HhcXZ+sj/R1+VqxYobS0\nNC1evFj16tVTvXr17M7x8fFRYGCgHnzwQS1btkzvvfeeNm7ceNMa3Nzc5O3tbfcAAAD3hnz/HCR/\nf3/16tVL4eHhN+3Tvn17lSxZUm+99VamY1988YWOHDmip59+2tbWtWtXXbt2TTExMVq8eHGm1SMz\nT09PhYWFacSIEbzVHwAAZJInASkxMVF79+61e9zqllRYWJjWrFmj3bt3Z3m8ePHi+vDDD/X5559r\nyJAh+umnn3T8+HF9/PHH6t+/v3r06KGePXva9e/WrZvGjRunuLg4u/B0M0OHDtXhw4e1cuXKnF8w\nAAAo0vIkIMXGxqphw4Z2j6w2OGeoU6eO2rdvr/Hjx9+0T48ePbR582adPHlSLVq0UM2aNTVz5kyN\nHTtWUVFRdhuwpb9vs+3bt08tWrRQ5cqVb1tzyZIl9eyzz2rChAlKT0/P/sUCAIAiz2JwjylbkpKS\n5OPjo/kJp2RlPxIcjHexAUD2ZLx+JyYm5mg/Md/FBgAAYEJAAgAAMCEgAQAAmBCQAAAATAhIAAAA\nJgQkAAAAEwISAACACQEJAADAhIAEAABgQkACAAAwISABAACYEJAAAABMnB1dQGHzpNVL3nxRKAAA\nRRorSAAAACYEJAAAABMCEgAAgAkBCQAAwIRN2jmUHH1JzlaLo8sAADiQtSdv1inqWEECAAAwISAB\nAACYEJAAAABMCEgAAAAmBCQAAAATAhIAAIAJAQkAAMCEgAQAAGBCQAIAADAhIAEAAJgQkAAAAEwI\nSAAAACZFMiDFxsbKYrHo4sWLt+wXEBCgWbNm5VNVAACgsMhRQOrfv7+6det20+MBAQGyWCyyWCyy\nWq2qV6+e5s6de9txM86LiorKdKxu3bqyWCxasGBBTkq1s2DBAvn6+mZq/9///qchQ4bkelwAAFA0\n5fkK0qRJk5SQkKD9+/frmWee0eDBg7Vu3brbnufv76/58+fbte3cuVOnT59W8eLF87pMSVKZMmVk\ntVrvytgAAKDwyvOA5OXlJT8/P1WrVk2jR49WqVKltGHDhtueFxoaqm+//Vbx8fG2tnnz5ik0NFTO\nzs62tuPHj8tisWjv3r22tosXL8pisSg2NjbTuLGxsRowYIASExNtq1sTJkyQxC02AACQtbu2Byk9\nPV0rV67U+fPn5erqetv+5cqVU0hIiBYuXChJSk5O1tKlSzVw4MA7qqNZs2aaNWuWvL29lZCQoISE\nBI0YMeKOxgQAAEVbngek0aNHy9PTU25uburRo4dKlCihQYMGZevcgQMHasGCBTIMQytWrFD16tXV\noEGDO6rH1dVVPj4+slgs8vPzk5+fnzw9PW97XkpKipKSkuweAADg3uB8+y45M3LkSPXv318JCQka\nOXKkhg0bpsDAwGyd26lTJw0dOlRbtmzRvHnz7nj16E5ERkZq4sSJmdpjOkhWbwcUBPyfnlYvR5cA\nAEVenq8glS5dWoGBgWrRooWWL1+u4cOH68CBA9k619nZWX379lVERIS+//57hYaGZi642N8lG4Zh\na0tLS8ub4v8hPDxciYmJtsc/90YBAICi7a5+DpK/v7969eql8PDwbJ8zcOBAffvtt+ratatKlCiR\n6XiZMmUkSQkJCba2f27Yzoqrq6tu3LiR7Rokyc3NTd7e3nYPAABwb8jxLbbExMRMgaRUqVLy9/fP\nsn9YWJjuu+8+7d69W40bN77t+LVr19bZs2dv+vZ7Dw8PNWnSRNOmTVPVqlV15swZvf7667ccMyAg\nQJcvX9amTZtUv359Wa1W3t4PAABuKscrSLGxsWrYsKHdI6u9Ohnq1Kmj9u3ba/z48dl+jlKlSsnD\nw+Omx+fNm6fr16/rgQce0Msvv6zJkyffcrxmzZrp+eefV69evVSmTBnNmDEj27UAAIB7j8X452Ye\n3FRSUpJ8fHw0P+GUrNxugwOxSRsAsi/j9TsxMTFH22WK5HexAQAA3AkCEgAAgAkBCQAAwISABAAA\nYEJAAgAAMCEgAQAAmBCQAAAATAhIAAAAJgQkAAAAEwISAACACQEJAADAhIAEAABgQkACAAAwcXZ0\nAYXNk1YvefNt6gAAFGmsIAEAAJgQkAAAAEwISAAAACYEJAAAABMCEgAAgAkBCQAAwISABAAAYEJA\nAgAAMCEgAQAAmBCQAAAATAhIAAAAJgQkAAAAEwISAACACQEJAADAhIAEAABg4uzoAgoLwzAkSUlJ\nSQ6uBAAAZFfG63bG63h2EZCy6dy5c5Ikf39/B1cCAABy6tKlS/Lx8cl2fwJSNpUsWVKSdPLkyRxN\nMPJGUlKS/P39FR8fL29vb0eXc09h7h2HuXcc5t5x8nruDcPQpUuXVKFChRydR0DKpmLF/t6u5ePj\nw38sDuTt7c38Owhz7zjMveMw946Tl3Ofm4UNNmkDAACYEJAAAABMnCZMmDDB0UUUFk5OTnrkkUfk\n7MydSUdg/h2HuXcc5t5xmHvHKQhzbzFy+r43AACAIo5bbAAAACYEJAAAABMCEgAAgAkBCQAAwISA\n9A9z5sxRQECA3N3dFRwcrF27dt2yf2xsrBo1aiQ3NzcFBgZqwYIF+VNoEZSTuY+Ojla7du1UpkwZ\neXt7q2nTplq/fn0+Vlu05PTvfYbt27fL2dlZDRo0uMsVFm05nf+UlBSNHTtWVapUkZubmwICAjRv\n3rx8qrZoyencL1q0SPXr15fValX58uU1cOBA29dQIXu2bNmizp07q0KFCrJYLFq9evVtz3HYa60B\nwzAMIyoqynB1dTXmzZtn/PLLL8bgwYMNX19f488//8yy/7Fjxwyr1Wq8+uqrxoEDB4zZs2cbTk5O\nRkxMTD5XXvjldO7DwsKM6dOnG7t27TIOHz5shIeHGy4uLsaPP/6Yz5UXfjmd+wwXLlwwqlWrZrRv\n396oX79+PlVb9ORm/rt06WIEBwcbGzZsMH777Tfju+++M7Zt25aPVRcNOZ37bdu2GcWKFTPeeecd\n49ixY8bWrVuNunXrGk888UQ+V164ffXVV8bYsWON6OhoQ5KxatWqW/Z35GstAen/PPTQQ8aLL75o\n+/3GjRtGhQoVjMjIyCz7jxo1yqhbt65dW69evYyQkJC7WmdRlNO5z0qdOnWMiRMn3o3yirTczn2v\nXr2M119/3YiIiCAg3YGczv+6desMHx8f49y5c/lVYpGV07n/z3/+Y1SrVs2u7d133zUqVqx4V+ss\nyrITkBz5WsstNkmpqan64Ycf1LZtW1tbsWLF1LZtW+3YsSPLc3bs2GHXX5JCQkJu2h9Zy83cm6Wn\np+vSpUu2LxRG9uR27ufPn69jx44pIiIiP8ossnIz/1988YUaN26sGTNmqGLFigoKCtKIESN09erV\n/Cq7SMjN3Ddt2lTx8fH66quvZBiG/vzzTy1fvlyPPfZYfpV9T3Lkay0BSdLZs2d148YNlStXzq69\nXLlyOn36dJbnnD59Osv+SUlJ/J9VDuRm7s3efPNNXb58WT179rwbJRZZuZn7I0eOaMyYMfrss8/4\ndOE7lJv5P3bsmLZt26b9+/dr1apVmjVrllasWKFhw4blR8lFRm7mvnnz5lq0aJF69eolV1dX+fn5\nydfXV3PmzMmPku9ZjnytJSChUFu8eLEmTpyoZcuWqWzZso4up0i7ceOG+vTpo4kTJyooKMjR5dyT\n0tPTZbFYtGjRIj300EN67LHH9Pbbb2vhwoX8w+wuO3DggMLCwjR+/Hj98MMPiomJ0fHjx/X88887\nujTcJfwTUFLp0qXl5OSkP//80679zz//lJ+fX5bn+Pn5Zdnf29tbHh4ed63WoiY3c58hKipKgwYN\n0vLlyzMtweL2cjr3ly5d0u7du7Vnzx699NJLkv5+wTYMQ87Ozvr666/Vpk2bfKm9KMjN3/3y5cur\nYsWK8vHxsbXVrl1bhmHo1KlTqlGjxl2tuajIzdxHRkaqWbNmGjlypCTp/vvvV/HixdWiRQtNnjxZ\n5cuXv+t134sc+VrLCpIkV1dXPfDAA9q0aZOtLT09XZs2bVLTpk2zPKdp06Z2/SVpw4YNN+2PrOVm\n7iVpyZIlGjBggJYsWaJOnTrlR6lFTk7n3tvbWz///LP27t1rezz//POqWbOm9u7dq+Dg4Pwsv9DL\nzd/95s2b648//tDly5dtbYcPH1axYsVUqVKlu15zUZGbuU9OTs50W9nJyUmSZPCVpneNQ19r7/o2\n8EIiKirKcHNzMxYsWGAcOHDAGDJkiOHr62ucPn3aMAzDGDNmjNG3b19b/4y3Ho4cOdKIi4sz5syZ\nw9v8cymnc79o0SLD2dnZmDNnjpGQkGB7XLx40VGXUGjldO7NeBfbncnp/F+6dMmoVKmS0aNHD+OX\nX34xvv32W6NGjRrGoEGDHHUJhVZO537+/PmGs7Oz8f777xtHjx41tm3bZjRu3Nh46KGHHHUJhdKl\nS5eMPXv2GHv27DEkGW+//baxZ88e48SJE4ZhFKzXWgLSP8yePduoXLmy4erqajz00EPGzp07bcf6\n9etntGrVyq7/5s2bjQYNGhiurq5GtWrVjPnz5+dvwUVITua+VatWhqRMj379+uV/4UVATv/e/xMB\n6c7ldP7j4uKMtm3bGh4eHkalSpWMV1991UhOTs7nqouGnM79u+++a9SpU8fw8PAwypcvb4SGhhqn\nTp3K56oLt82bN9/y/78L0mutxTBYGwQAAPgn9iABAACYEJAAAABMCEgAAAAmBCQAAAATAhIAAIAJ\nAQkAAMCEgAQAAGBCQAIAADAhIAEo9P766y+98MILqly5stzc3OTn56eQkBBt377d0aUBKKScb98F\nAAq27t27KzU1VQsXLlS1atX0559/atOmTTp37txdeb7U1FS5urrelbEBFAysIAEo1C5evKitW7dq\n+vTpat26tapUqaKHHnpI4eHh6tKli63P0KFDVa5cObm7u+u+++7Tl19+aRtj5cqVqlu3rtzc3BQQ\nEKC33nrL7jkCAgL0xhtv6Nlnn5W3t7eGDBkiSYqPj1fPnj3l6+urkiVLqmvXrjp+/Hi+XTuAu4eA\nBKBQ8/T0lKenp1avXq2UlJRMx9PT09WxY0dt375dn332mQ4cOKD//Oc/cnJykiT98MMP6tmzp3r3\n7q2ff/5ZEyZM0Lhx47RgwQK7cd58803Vr19fe/bs0bhx45SWlqaQkBB5eXlp69at2r59uzw9PdWh\nQwelpqbmx6UDuIv4sloAhd7KlSs1ePBgXb16VY0aNVKrVq3Uu3dv3X///fr666/VsWNHxcXFKSgo\nKNO5oaGh+uuvv/T111/b2kaNGqW1a9fql19+kfT3ClLDhg21atUqW5/PPvtMkydPVlxcnCwWi6S/\nb735+vpq9erVat++/V2+agB3EytIAAq97t27648//tAXX3yhDh06KDY2Vo0aNdKCBQu0d+9eVapU\nKctwJElxcXFq3ry5XVvz5s115MgR3bhxw9bWuHFjuz779u3Tr7/+Ki8vL9sqVsmSJXXt2jUdPXo0\n7y8SQL5ikzaAIsHd3V3t2rVTu3btNG7cOA0aNEgREREaMWJEnoxfvHhxu98vX76sBx54QIsWLcrU\nt0yZMnnynAAchxUkAEVSnTp1dOXKFd1///06deqUDh8+nGW/2rVrZ/o4gO3btysoKMi2TykrjRo1\n0pEjR1S2bFkFBgbaPXx8fPL0WgDkPwISgELt3LlzatOmjT777DP99NNP+u2337R8+XLNmDFDXbt2\nVatWrdSyZUt1795dGzZs0G+//aZ169YpJiZGkvTaa69p06ZNeuONN3T48GEtXLhQ77333m1XnkJD\nQ1W6dGl17dpVW7du1W+//abY2FgNHz5cp06dyo9LB3AXcYsNQKHm6emp4OBgzZw5U0ePHlVaWpr8\n/f01+P+1b4e2EgJRGEZ/vQJPsHRCB7h1mO1gExIEAgy1bBm0RPBPrLviuXXnNHAz7svcmdcry7Ik\n+T7ifr/feT6fue87fd/nOI4k35ugz+eTdV2z73vats22bZmm6d+5j8cj53lmnueM45jrutJ1XYZh\nSNM0vz428GN+sQEAFFZsAACFQAIAKAQSAEAhkAAACoEEAFAIJACAQiABABQCCQCgEEgAAIVAAgAo\nBBIAQCGQAACKP7faBxvsyFkOAAAAAElFTkSuQmCC\n",
      "text/plain": [
       "<matplotlib.figure.Figure at 0x17c9004fe48>"
      ]
     },
     "metadata": {},
     "output_type": "display_data"
    }
   ],
   "source": [
    "import matplotlib.pyplot as plt\n",
    "def plot_comparation_M(ScoreTrain, ScoreTest):\n",
    "    plt.rcdefaults()\n",
    "    fig, ax = plt.subplots()\n",
    "    location = np.arange(len(ScoreTrain))\n",
    "    width = 0.45\n",
    "    \n",
    "    uno = ax.barh(location, ScoreTrain.values(),  width, align='center', color=\"#F5A9F2\")\n",
    "    dos = ax.barh(location + width, ScoreTest.values(), width, align='center', color=\"#A9F5F2\")\n",
    "    ax.set_yticks(location + width/2)\n",
    "    ax.set_yticklabels((\"DTC\", \"KNC\", \"MLPC\", \"MNB\", \"ORC\", \"OOC\", \"LR OvR\", \"LR Multi\"))\n",
    "    \n",
    "    ax.set_xlabel('Score')\n",
    "    ax.set_title('Train and Test Score')\n",
    "    ax.legend((uno[0], dos[0]), ('Train', 'Test'), bbox_to_anchor=(1,0.6))\n",
    "    #autolabel(uno)\n",
    "    #autolabel(dos)\n",
    "    ax.invert_yaxis()\n",
    "    plt.show()\n",
    "    return\n",
    "\n",
    "plot_comparation_M(ScoreTrain_M, ScoreTest_M)"
   ]
=======
   "execution_count": null,
   "metadata": {
    "collapsed": true
   },
   "outputs": [],
   "source": []
>>>>>>> 40b74ad864d550dfc896613dec6cfc47b99ea105
  }
 ],
 "metadata": {
  "kernelspec": {
   "display_name": "Python 3",
   "language": "python",
   "name": "python3"
  },
  "language_info": {
   "codemirror_mode": {
    "name": "ipython",
    "version": 3
   },
   "file_extension": ".py",
   "mimetype": "text/x-python",
   "name": "python",
   "nbconvert_exporter": "python",
   "pygments_lexer": "ipython3",
   "version": "3.6.2"
  }
 },
 "nbformat": 4,
 "nbformat_minor": 2
}
